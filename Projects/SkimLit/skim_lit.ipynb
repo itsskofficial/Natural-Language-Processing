{
  "nbformat": 4,
  "nbformat_minor": 0,
  "metadata": {
    "colab": {
      "provenance": [],
      "gpuType": "T4"
    },
    "kernelspec": {
      "name": "python3",
      "display_name": "Python 3"
    },
    "language_info": {
      "name": "python"
    },
    "accelerator": "GPU"
  },
  "cells": [
    {
      "cell_type": "code",
      "source": [
        "!nvidia-smi"
      ],
      "metadata": {
        "colab": {
          "base_uri": "https://localhost:8080/"
        },
        "id": "t15dAleKFyWz",
        "outputId": "b6d11291-db33-47fd-9d62-1fa777c97763"
      },
      "execution_count": null,
      "outputs": [
        {
          "output_type": "stream",
          "name": "stdout",
          "text": [
            "/bin/bash: nvidia-smi: command not found\n"
          ]
        }
      ]
    },
    {
      "cell_type": "code",
      "source": [
        "!wget https://raw.githubusercontent.com/mrdbourke/tensorflow-deep-learning/main/extras/helper_functions.py"
      ],
      "metadata": {
        "colab": {
          "base_uri": "https://localhost:8080/"
        },
        "id": "vCtjobtSG42w",
        "outputId": "299339b6-82a1-43f0-a359-4017e00804d0"
      },
      "execution_count": null,
      "outputs": [
        {
          "output_type": "stream",
          "name": "stdout",
          "text": [
            "--2023-06-28 04:22:38--  https://raw.githubusercontent.com/mrdbourke/tensorflow-deep-learning/main/extras/helper_functions.py\n",
            "Resolving raw.githubusercontent.com (raw.githubusercontent.com)... 185.199.111.133, 185.199.108.133, 185.199.109.133, ...\n",
            "Connecting to raw.githubusercontent.com (raw.githubusercontent.com)|185.199.111.133|:443... connected.\n",
            "HTTP request sent, awaiting response... 200 OK\n",
            "Length: 10246 (10K) [text/plain]\n",
            "Saving to: ‘helper_functions.py’\n",
            "\n",
            "helper_functions.py 100%[===================>]  10.01K  --.-KB/s    in 0s      \n",
            "\n",
            "2023-06-28 04:22:39 (73.4 MB/s) - ‘helper_functions.py’ saved [10246/10246]\n",
            "\n"
          ]
        }
      ]
    },
    {
      "cell_type": "code",
      "source": [
        "!git clone https://github.com/Franck-Dernoncourt/pubmed-rct.git\n",
        "!ls pubmed-rct"
      ],
      "metadata": {
        "colab": {
          "base_uri": "https://localhost:8080/"
        },
        "id": "5JSaPtBIHZK0",
        "outputId": "f61dd6f7-592a-4e65-99ad-986dfdb338f7"
      },
      "execution_count": null,
      "outputs": [
        {
          "output_type": "stream",
          "name": "stdout",
          "text": [
            "Cloning into 'pubmed-rct'...\n",
            "remote: Enumerating objects: 33, done.\u001b[K\n",
            "remote: Counting objects: 100% (8/8), done.\u001b[K\n",
            "remote: Compressing objects: 100% (3/3), done.\u001b[K\n",
            "remote: Total 33 (delta 5), reused 5 (delta 5), pack-reused 25\u001b[K\n",
            "Unpacking objects: 100% (33/33), 177.08 MiB | 10.96 MiB/s, done.\n",
            "Updating files: 100% (13/13), done.\n",
            "PubMed_200k_RCT\n",
            "PubMed_200k_RCT_numbers_replaced_with_at_sign\n",
            "PubMed_20k_RCT\n",
            "PubMed_20k_RCT_numbers_replaced_with_at_sign\n",
            "README.md\n"
          ]
        }
      ]
    },
    {
      "cell_type": "code",
      "execution_count": null,
      "metadata": {
        "id": "M_4uoLDr-2b1"
      },
      "outputs": [],
      "source": [
        "import tensorflow as tf\n",
        "import pandas as pd\n",
        "import numpy as np\n",
        "import matplotlib.pyplot as plt\n",
        "import tensorflow_datasets as tfds\n",
        "import tensorflow_hub as tfhub\n",
        "import os\n",
        "import random\n",
        "import string\n",
        "from helper_functions import *\n",
        "from sklearn.preprocessing import *\n",
        "from sklearn.feature_extraction.text import *\n",
        "from sklearn.naive_bayes import *\n",
        "from sklearn.pipeline import *"
      ]
    },
    {
      "cell_type": "code",
      "source": [
        "LOGS_DIR = 'logs/'"
      ],
      "metadata": {
        "id": "3NFeEsXDmk9G"
      },
      "execution_count": null,
      "outputs": []
    },
    {
      "cell_type": "code",
      "source": [
        "!ls pubmed-rct/PubMed_20k_RCT_numbers_replaced_with_at_sign/"
      ],
      "metadata": {
        "colab": {
          "base_uri": "https://localhost:8080/"
        },
        "id": "_f2n6x2XIgPC",
        "outputId": "b3e3f2c1-501c-4158-8210-e70239525448"
      },
      "execution_count": null,
      "outputs": [
        {
          "output_type": "stream",
          "name": "stdout",
          "text": [
            "dev.txt  test.txt  train.txt\n"
          ]
        }
      ]
    },
    {
      "cell_type": "code",
      "source": [
        "data_dir_path = '/content/pubmed-rct/PubMed_20k_RCT_numbers_replaced_with_at_sign/'\n",
        "train_dir_path = data_dir_path + 'train.txt'\n",
        "test_dir_path = data_dir_path + 'test.txt'\n",
        "validation_dir_path = data_dir_path + 'dev.txt'"
      ],
      "metadata": {
        "id": "adhR6TajIoMu"
      },
      "execution_count": null,
      "outputs": []
    },
    {
      "cell_type": "code",
      "source": [
        "filenames = [data_dir_path + filename for filename in os.listdir(data_dir_path)]\n",
        "filenames"
      ],
      "metadata": {
        "colab": {
          "base_uri": "https://localhost:8080/"
        },
        "id": "mk29v3QVJ-yS",
        "outputId": "2684638c-0d2e-4a61-d133-fd0738f1df55"
      },
      "execution_count": null,
      "outputs": [
        {
          "output_type": "execute_result",
          "data": {
            "text/plain": [
              "['/content/pubmed-rct/PubMed_20k_RCT_numbers_replaced_with_at_sign/train.txt',\n",
              " '/content/pubmed-rct/PubMed_20k_RCT_numbers_replaced_with_at_sign/dev.txt',\n",
              " '/content/pubmed-rct/PubMed_20k_RCT_numbers_replaced_with_at_sign/test.txt']"
            ]
          },
          "metadata": {},
          "execution_count": 8
        }
      ]
    },
    {
      "cell_type": "code",
      "source": [
        "def read_doc(filename):\n",
        "  \"\"\"\n",
        "  Reads filename (txt) and returns the lines of text as a list\n",
        "\n",
        "  Args:\n",
        "\n",
        "    filename: A string containing the target filepath\n",
        "\n",
        "  Returns:\n",
        "\n",
        "    A list of strings with one string per line from the target filename\n",
        "  \"\"\"\n",
        "  with open(filename, 'r') as f:\n",
        "    return f.readlines()\n"
      ],
      "metadata": {
        "id": "73RVapwTKEmJ"
      },
      "execution_count": null,
      "outputs": []
    },
    {
      "cell_type": "code",
      "source": [
        "train_lines = read_doc(train_dir_path)\n",
        "train_lines[:10]"
      ],
      "metadata": {
        "colab": {
          "base_uri": "https://localhost:8080/"
        },
        "id": "0EDwtq6PMaPA",
        "outputId": "9b901f87-80a7-4dc6-933b-eaf3a8117ac0"
      },
      "execution_count": null,
      "outputs": [
        {
          "output_type": "execute_result",
          "data": {
            "text/plain": [
              "['###24293578\\n',\n",
              " 'OBJECTIVE\\tTo investigate the efficacy of @ weeks of daily low-dose oral prednisolone in improving pain , mobility , and systemic low-grade inflammation in the short term and whether the effect would be sustained at @ weeks in older adults with moderate to severe knee osteoarthritis ( OA ) .\\n',\n",
              " 'METHODS\\tA total of @ patients with primary knee OA were randomized @:@ ; @ received @ mg/day of prednisolone and @ received placebo for @ weeks .\\n',\n",
              " 'METHODS\\tOutcome measures included pain reduction and improvement in function scores and systemic inflammation markers .\\n',\n",
              " 'METHODS\\tPain was assessed using the visual analog pain scale ( @-@ mm ) .\\n',\n",
              " 'METHODS\\tSecondary outcome measures included the Western Ontario and McMaster Universities Osteoarthritis Index scores , patient global assessment ( PGA ) of the severity of knee OA , and @-min walk distance ( @MWD ) .\\n',\n",
              " 'METHODS\\tSerum levels of interleukin @ ( IL-@ ) , IL-@ , tumor necrosis factor ( TNF ) - , and high-sensitivity C-reactive protein ( hsCRP ) were measured .\\n',\n",
              " 'RESULTS\\tThere was a clinically relevant reduction in the intervention group compared to the placebo group for knee pain , physical function , PGA , and @MWD at @ weeks .\\n',\n",
              " 'RESULTS\\tThe mean difference between treatment arms ( @ % CI ) was @ ( @-@ @ ) , p < @ ; @ ( @-@ @ ) , p < @ ; @ ( @-@ @ ) , p < @ ; and @ ( @-@ @ ) , p < @ , respectively .\\n',\n",
              " 'RESULTS\\tFurther , there was a clinically relevant reduction in the serum levels of IL-@ , IL-@ , TNF - , and hsCRP at @ weeks in the intervention group when compared to the placebo group .\\n']"
            ]
          },
          "metadata": {},
          "execution_count": 10
        }
      ]
    },
    {
      "cell_type": "code",
      "source": [
        "def preprocess_doc(filename):\n",
        "  \"\"\"\n",
        "  Returns a list of dictionaries for each line relating to one abstract, doing the same for all abstracts\n",
        "\n",
        "  Args:\n",
        "\n",
        "    filename: A string which is the path of the doc\n",
        "\n",
        "  Returns:\n",
        "\n",
        "    A list of dictionaries with preprocesse data from the doc\n",
        "  \"\"\"\n",
        "  input_lines = read_doc(filename)\n",
        "  abstract_lines = ''\n",
        "  abstract_samples = []\n",
        "\n",
        "  for line in input_lines:\n",
        "    if line.startswith('###'):\n",
        "      abstract_id = line\n",
        "      abstract_lines = ''\n",
        "    elif line.isspace():\n",
        "      abstract_line_split = abstract_lines.splitlines()\n",
        "      for abstract_line_number, abstract_line in enumerate(abstract_line_split):\n",
        "        line_data = {}\n",
        "        label_text_split = abstract_line.split('\\t')\n",
        "        line_data['line_number'] = abstract_line_number\n",
        "        line_data['label'] = label_text_split[0]\n",
        "        line_data['text'] = label_text_split[1].lower()\n",
        "        line_data['total_lines'] = len(abstract_line_split) - 1\n",
        "        abstract_samples.append(line_data)\n",
        "    else:\n",
        "      abstract_lines += line\n",
        "\n",
        "  return abstract_samples"
      ],
      "metadata": {
        "id": "uDdHf6HGMxsF"
      },
      "execution_count": null,
      "outputs": []
    },
    {
      "cell_type": "code",
      "source": [
        "train_samples = preprocess_doc(train_dir_path)\n",
        "validation_samples = preprocess_doc(validation_dir_path)\n",
        "test_samples = preprocess_doc(test_dir_path)\n",
        "len(train_samples), len(validation_samples), len(test_samples)"
      ],
      "metadata": {
        "colab": {
          "base_uri": "https://localhost:8080/"
        },
        "id": "7ynQ9SgqFE8j",
        "outputId": "573b21fc-cda6-492a-e9dd-070c208b1a70"
      },
      "execution_count": null,
      "outputs": [
        {
          "output_type": "execute_result",
          "data": {
            "text/plain": [
              "(180040, 30212, 30135)"
            ]
          },
          "metadata": {},
          "execution_count": 12
        }
      ]
    },
    {
      "cell_type": "code",
      "source": [
        "train_samples[:10]"
      ],
      "metadata": {
        "colab": {
          "base_uri": "https://localhost:8080/"
        },
        "id": "yRUDDDxJFqxU",
        "outputId": "19f47f9a-ace1-47e0-daa4-72536579d878"
      },
      "execution_count": null,
      "outputs": [
        {
          "output_type": "execute_result",
          "data": {
            "text/plain": [
              "[{'line_number': 0,\n",
              "  'label': 'OBJECTIVE',\n",
              "  'text': 'to investigate the efficacy of @ weeks of daily low-dose oral prednisolone in improving pain , mobility , and systemic low-grade inflammation in the short term and whether the effect would be sustained at @ weeks in older adults with moderate to severe knee osteoarthritis ( oa ) .',\n",
              "  'total_lines': 11},\n",
              " {'line_number': 1,\n",
              "  'label': 'METHODS',\n",
              "  'text': 'a total of @ patients with primary knee oa were randomized @:@ ; @ received @ mg/day of prednisolone and @ received placebo for @ weeks .',\n",
              "  'total_lines': 11},\n",
              " {'line_number': 2,\n",
              "  'label': 'METHODS',\n",
              "  'text': 'outcome measures included pain reduction and improvement in function scores and systemic inflammation markers .',\n",
              "  'total_lines': 11},\n",
              " {'line_number': 3,\n",
              "  'label': 'METHODS',\n",
              "  'text': 'pain was assessed using the visual analog pain scale ( @-@ mm ) .',\n",
              "  'total_lines': 11},\n",
              " {'line_number': 4,\n",
              "  'label': 'METHODS',\n",
              "  'text': 'secondary outcome measures included the western ontario and mcmaster universities osteoarthritis index scores , patient global assessment ( pga ) of the severity of knee oa , and @-min walk distance ( @mwd ) .',\n",
              "  'total_lines': 11},\n",
              " {'line_number': 5,\n",
              "  'label': 'METHODS',\n",
              "  'text': 'serum levels of interleukin @ ( il-@ ) , il-@ , tumor necrosis factor ( tnf ) - , and high-sensitivity c-reactive protein ( hscrp ) were measured .',\n",
              "  'total_lines': 11},\n",
              " {'line_number': 6,\n",
              "  'label': 'RESULTS',\n",
              "  'text': 'there was a clinically relevant reduction in the intervention group compared to the placebo group for knee pain , physical function , pga , and @mwd at @ weeks .',\n",
              "  'total_lines': 11},\n",
              " {'line_number': 7,\n",
              "  'label': 'RESULTS',\n",
              "  'text': 'the mean difference between treatment arms ( @ % ci ) was @ ( @-@ @ ) , p < @ ; @ ( @-@ @ ) , p < @ ; @ ( @-@ @ ) , p < @ ; and @ ( @-@ @ ) , p < @ , respectively .',\n",
              "  'total_lines': 11},\n",
              " {'line_number': 8,\n",
              "  'label': 'RESULTS',\n",
              "  'text': 'further , there was a clinically relevant reduction in the serum levels of il-@ , il-@ , tnf - , and hscrp at @ weeks in the intervention group when compared to the placebo group .',\n",
              "  'total_lines': 11},\n",
              " {'line_number': 9,\n",
              "  'label': 'RESULTS',\n",
              "  'text': 'these differences remained significant at @ weeks .',\n",
              "  'total_lines': 11}]"
            ]
          },
          "metadata": {},
          "execution_count": 13
        }
      ]
    },
    {
      "cell_type": "code",
      "source": [
        "train_df = pd.DataFrame(train_samples)\n",
        "validation_df = pd.DataFrame(validation_samples)\n",
        "test_df = pd.DataFrame(test_samples)"
      ],
      "metadata": {
        "id": "haV4DyN_GMR2"
      },
      "execution_count": null,
      "outputs": []
    },
    {
      "cell_type": "code",
      "source": [
        "train_df.head(10)"
      ],
      "metadata": {
        "colab": {
          "base_uri": "https://localhost:8080/",
          "height": 476
        },
        "id": "KFxoQdyeGyQ8",
        "outputId": "456d868f-6ac9-4f38-8d24-39d0ec756426"
      },
      "execution_count": null,
      "outputs": [
        {
          "output_type": "execute_result",
          "data": {
            "text/plain": [
              "   line_number      label                                               text  \\\n",
              "0            0  OBJECTIVE  to investigate the efficacy of @ weeks of dail...   \n",
              "1            1    METHODS  a total of @ patients with primary knee oa wer...   \n",
              "2            2    METHODS  outcome measures included pain reduction and i...   \n",
              "3            3    METHODS  pain was assessed using the visual analog pain...   \n",
              "4            4    METHODS  secondary outcome measures included the wester...   \n",
              "5            5    METHODS  serum levels of interleukin @ ( il-@ ) , il-@ ...   \n",
              "6            6    RESULTS  there was a clinically relevant reduction in t...   \n",
              "7            7    RESULTS  the mean difference between treatment arms ( @...   \n",
              "8            8    RESULTS  further , there was a clinically relevant redu...   \n",
              "9            9    RESULTS  these differences remained significant at @ we...   \n",
              "\n",
              "   total_lines  \n",
              "0           11  \n",
              "1           11  \n",
              "2           11  \n",
              "3           11  \n",
              "4           11  \n",
              "5           11  \n",
              "6           11  \n",
              "7           11  \n",
              "8           11  \n",
              "9           11  "
            ],
            "text/html": [
              "\n",
              "  <div id=\"df-ac43cdbf-526a-4cfc-acd9-8156b2d5f20b\">\n",
              "    <div class=\"colab-df-container\">\n",
              "      <div>\n",
              "<style scoped>\n",
              "    .dataframe tbody tr th:only-of-type {\n",
              "        vertical-align: middle;\n",
              "    }\n",
              "\n",
              "    .dataframe tbody tr th {\n",
              "        vertical-align: top;\n",
              "    }\n",
              "\n",
              "    .dataframe thead th {\n",
              "        text-align: right;\n",
              "    }\n",
              "</style>\n",
              "<table border=\"1\" class=\"dataframe\">\n",
              "  <thead>\n",
              "    <tr style=\"text-align: right;\">\n",
              "      <th></th>\n",
              "      <th>line_number</th>\n",
              "      <th>label</th>\n",
              "      <th>text</th>\n",
              "      <th>total_lines</th>\n",
              "    </tr>\n",
              "  </thead>\n",
              "  <tbody>\n",
              "    <tr>\n",
              "      <th>0</th>\n",
              "      <td>0</td>\n",
              "      <td>OBJECTIVE</td>\n",
              "      <td>to investigate the efficacy of @ weeks of dail...</td>\n",
              "      <td>11</td>\n",
              "    </tr>\n",
              "    <tr>\n",
              "      <th>1</th>\n",
              "      <td>1</td>\n",
              "      <td>METHODS</td>\n",
              "      <td>a total of @ patients with primary knee oa wer...</td>\n",
              "      <td>11</td>\n",
              "    </tr>\n",
              "    <tr>\n",
              "      <th>2</th>\n",
              "      <td>2</td>\n",
              "      <td>METHODS</td>\n",
              "      <td>outcome measures included pain reduction and i...</td>\n",
              "      <td>11</td>\n",
              "    </tr>\n",
              "    <tr>\n",
              "      <th>3</th>\n",
              "      <td>3</td>\n",
              "      <td>METHODS</td>\n",
              "      <td>pain was assessed using the visual analog pain...</td>\n",
              "      <td>11</td>\n",
              "    </tr>\n",
              "    <tr>\n",
              "      <th>4</th>\n",
              "      <td>4</td>\n",
              "      <td>METHODS</td>\n",
              "      <td>secondary outcome measures included the wester...</td>\n",
              "      <td>11</td>\n",
              "    </tr>\n",
              "    <tr>\n",
              "      <th>5</th>\n",
              "      <td>5</td>\n",
              "      <td>METHODS</td>\n",
              "      <td>serum levels of interleukin @ ( il-@ ) , il-@ ...</td>\n",
              "      <td>11</td>\n",
              "    </tr>\n",
              "    <tr>\n",
              "      <th>6</th>\n",
              "      <td>6</td>\n",
              "      <td>RESULTS</td>\n",
              "      <td>there was a clinically relevant reduction in t...</td>\n",
              "      <td>11</td>\n",
              "    </tr>\n",
              "    <tr>\n",
              "      <th>7</th>\n",
              "      <td>7</td>\n",
              "      <td>RESULTS</td>\n",
              "      <td>the mean difference between treatment arms ( @...</td>\n",
              "      <td>11</td>\n",
              "    </tr>\n",
              "    <tr>\n",
              "      <th>8</th>\n",
              "      <td>8</td>\n",
              "      <td>RESULTS</td>\n",
              "      <td>further , there was a clinically relevant redu...</td>\n",
              "      <td>11</td>\n",
              "    </tr>\n",
              "    <tr>\n",
              "      <th>9</th>\n",
              "      <td>9</td>\n",
              "      <td>RESULTS</td>\n",
              "      <td>these differences remained significant at @ we...</td>\n",
              "      <td>11</td>\n",
              "    </tr>\n",
              "  </tbody>\n",
              "</table>\n",
              "</div>\n",
              "      <button class=\"colab-df-convert\" onclick=\"convertToInteractive('df-ac43cdbf-526a-4cfc-acd9-8156b2d5f20b')\"\n",
              "              title=\"Convert this dataframe to an interactive table.\"\n",
              "              style=\"display:none;\">\n",
              "        \n",
              "  <svg xmlns=\"http://www.w3.org/2000/svg\" height=\"24px\"viewBox=\"0 0 24 24\"\n",
              "       width=\"24px\">\n",
              "    <path d=\"M0 0h24v24H0V0z\" fill=\"none\"/>\n",
              "    <path d=\"M18.56 5.44l.94 2.06.94-2.06 2.06-.94-2.06-.94-.94-2.06-.94 2.06-2.06.94zm-11 1L8.5 8.5l.94-2.06 2.06-.94-2.06-.94L8.5 2.5l-.94 2.06-2.06.94zm10 10l.94 2.06.94-2.06 2.06-.94-2.06-.94-.94-2.06-.94 2.06-2.06.94z\"/><path d=\"M17.41 7.96l-1.37-1.37c-.4-.4-.92-.59-1.43-.59-.52 0-1.04.2-1.43.59L10.3 9.45l-7.72 7.72c-.78.78-.78 2.05 0 2.83L4 21.41c.39.39.9.59 1.41.59.51 0 1.02-.2 1.41-.59l7.78-7.78 2.81-2.81c.8-.78.8-2.07 0-2.86zM5.41 20L4 18.59l7.72-7.72 1.47 1.35L5.41 20z\"/>\n",
              "  </svg>\n",
              "      </button>\n",
              "      \n",
              "  <style>\n",
              "    .colab-df-container {\n",
              "      display:flex;\n",
              "      flex-wrap:wrap;\n",
              "      gap: 12px;\n",
              "    }\n",
              "\n",
              "    .colab-df-convert {\n",
              "      background-color: #E8F0FE;\n",
              "      border: none;\n",
              "      border-radius: 50%;\n",
              "      cursor: pointer;\n",
              "      display: none;\n",
              "      fill: #1967D2;\n",
              "      height: 32px;\n",
              "      padding: 0 0 0 0;\n",
              "      width: 32px;\n",
              "    }\n",
              "\n",
              "    .colab-df-convert:hover {\n",
              "      background-color: #E2EBFA;\n",
              "      box-shadow: 0px 1px 2px rgba(60, 64, 67, 0.3), 0px 1px 3px 1px rgba(60, 64, 67, 0.15);\n",
              "      fill: #174EA6;\n",
              "    }\n",
              "\n",
              "    [theme=dark] .colab-df-convert {\n",
              "      background-color: #3B4455;\n",
              "      fill: #D2E3FC;\n",
              "    }\n",
              "\n",
              "    [theme=dark] .colab-df-convert:hover {\n",
              "      background-color: #434B5C;\n",
              "      box-shadow: 0px 1px 3px 1px rgba(0, 0, 0, 0.15);\n",
              "      filter: drop-shadow(0px 1px 2px rgba(0, 0, 0, 0.3));\n",
              "      fill: #FFFFFF;\n",
              "    }\n",
              "  </style>\n",
              "\n",
              "      <script>\n",
              "        const buttonEl =\n",
              "          document.querySelector('#df-ac43cdbf-526a-4cfc-acd9-8156b2d5f20b button.colab-df-convert');\n",
              "        buttonEl.style.display =\n",
              "          google.colab.kernel.accessAllowed ? 'block' : 'none';\n",
              "\n",
              "        async function convertToInteractive(key) {\n",
              "          const element = document.querySelector('#df-ac43cdbf-526a-4cfc-acd9-8156b2d5f20b');\n",
              "          const dataTable =\n",
              "            await google.colab.kernel.invokeFunction('convertToInteractive',\n",
              "                                                     [key], {});\n",
              "          if (!dataTable) return;\n",
              "\n",
              "          const docLinkHtml = 'Like what you see? Visit the ' +\n",
              "            '<a target=\"_blank\" href=https://colab.research.google.com/notebooks/data_table.ipynb>data table notebook</a>'\n",
              "            + ' to learn more about interactive tables.';\n",
              "          element.innerHTML = '';\n",
              "          dataTable['output_type'] = 'display_data';\n",
              "          await google.colab.output.renderOutput(dataTable, element);\n",
              "          const docLink = document.createElement('div');\n",
              "          docLink.innerHTML = docLinkHtml;\n",
              "          element.appendChild(docLink);\n",
              "        }\n",
              "      </script>\n",
              "    </div>\n",
              "  </div>\n",
              "  "
            ]
          },
          "metadata": {},
          "execution_count": 15
        }
      ]
    },
    {
      "cell_type": "code",
      "source": [
        "train_df['label'].value_counts()"
      ],
      "metadata": {
        "colab": {
          "base_uri": "https://localhost:8080/"
        },
        "id": "fTfFgygkG52z",
        "outputId": "b1a9ecaa-45f5-4fa0-8c82-fe3d8e1df77c"
      },
      "execution_count": null,
      "outputs": [
        {
          "output_type": "execute_result",
          "data": {
            "text/plain": [
              "METHODS        59353\n",
              "RESULTS        57953\n",
              "CONCLUSIONS    27168\n",
              "BACKGROUND     21727\n",
              "OBJECTIVE      13839\n",
              "Name: label, dtype: int64"
            ]
          },
          "metadata": {},
          "execution_count": 16
        }
      ]
    },
    {
      "cell_type": "code",
      "source": [
        "train_df['total_lines'].plot.hist()"
      ],
      "metadata": {
        "colab": {
          "base_uri": "https://localhost:8080/",
          "height": 448
        },
        "id": "3-zb9u7fHsyK",
        "outputId": "ed1be524-9564-497e-f740-c06aa27d2b79"
      },
      "execution_count": null,
      "outputs": [
        {
          "output_type": "execute_result",
          "data": {
            "text/plain": [
              "<Axes: ylabel='Frequency'>"
            ]
          },
          "metadata": {},
          "execution_count": 17
        },
        {
          "output_type": "display_data",
          "data": {
            "text/plain": [
              "<Figure size 640x480 with 1 Axes>"
            ],
            "image/png": "[encoded data removed]"
          },
          "metadata": {}
        }
      ]
    },
    {
      "cell_type": "code",
      "source": [
        "train_sentences = train_df['text'].to_list()\n",
        "validation_sentences = validation_df['text'].to_list()\n",
        "test_sentences = test_df['text'].to_list()"
      ],
      "metadata": {
        "id": "iVxmAP9tHyqc"
      },
      "execution_count": null,
      "outputs": []
    },
    {
      "cell_type": "code",
      "source": [
        "train_sentences[:10]"
      ],
      "metadata": {
        "colab": {
          "base_uri": "https://localhost:8080/"
        },
        "id": "i7X_wekEIWVv",
        "outputId": "a17692e5-12d2-4bcf-9559-d9f50752b5a3"
      },
      "execution_count": null,
      "outputs": [
        {
          "output_type": "execute_result",
          "data": {
            "text/plain": [
              "['to investigate the efficacy of @ weeks of daily low-dose oral prednisolone in improving pain , mobility , and systemic low-grade inflammation in the short term and whether the effect would be sustained at @ weeks in older adults with moderate to severe knee osteoarthritis ( oa ) .',\n",
              " 'a total of @ patients with primary knee oa were randomized @:@ ; @ received @ mg/day of prednisolone and @ received placebo for @ weeks .',\n",
              " 'outcome measures included pain reduction and improvement in function scores and systemic inflammation markers .',\n",
              " 'pain was assessed using the visual analog pain scale ( @-@ mm ) .',\n",
              " 'secondary outcome measures included the western ontario and mcmaster universities osteoarthritis index scores , patient global assessment ( pga ) of the severity of knee oa , and @-min walk distance ( @mwd ) .',\n",
              " 'serum levels of interleukin @ ( il-@ ) , il-@ , tumor necrosis factor ( tnf ) - , and high-sensitivity c-reactive protein ( hscrp ) were measured .',\n",
              " 'there was a clinically relevant reduction in the intervention group compared to the placebo group for knee pain , physical function , pga , and @mwd at @ weeks .',\n",
              " 'the mean difference between treatment arms ( @ % ci ) was @ ( @-@ @ ) , p < @ ; @ ( @-@ @ ) , p < @ ; @ ( @-@ @ ) , p < @ ; and @ ( @-@ @ ) , p < @ , respectively .',\n",
              " 'further , there was a clinically relevant reduction in the serum levels of il-@ , il-@ , tnf - , and hscrp at @ weeks in the intervention group when compared to the placebo group .',\n",
              " 'these differences remained significant at @ weeks .']"
            ]
          },
          "metadata": {},
          "execution_count": 19
        }
      ]
    },
    {
      "cell_type": "code",
      "source": [
        "one_hot_encoder = OneHotEncoder(sparse_output = False)\n",
        "train_labels_one_hot_encoded = one_hot_encoder.fit_transform(train_df['label'].to_numpy().reshape(-1,1))\n",
        "validation_labels_one_hot_encoded = one_hot_encoder.transform(validation_df['label'].to_numpy().reshape(-1,1))\n",
        "test_labels_one_hot_encoded = one_hot_encoder.transform(test_df['label'].to_numpy().reshape(-1,1))"
      ],
      "metadata": {
        "id": "sDaHoX45IX_p"
      },
      "execution_count": null,
      "outputs": []
    },
    {
      "cell_type": "code",
      "source": [
        "label_encoder = LabelEncoder()\n",
        "train_labels_label_encoded = label_encoder.fit_transform(train_df['label'].to_numpy())\n",
        "validation_labels_label_encoded = label_encoder.transform(validation_df['label'].to_numpy())\n",
        "test_labels_label_encoded = label_encoder.transform(test_df['label'].to_numpy())"
      ],
      "metadata": {
        "id": "4qc2P17xK0Dy"
      },
      "execution_count": null,
      "outputs": []
    },
    {
      "cell_type": "code",
      "source": [
        "total_classes = len(label_encoder.classes_)\n",
        "class_names = label_encoder.classes_\n",
        "total_classes, class_names"
      ],
      "metadata": {
        "colab": {
          "base_uri": "https://localhost:8080/"
        },
        "id": "D2m1LmTlLYvI",
        "outputId": "9a7ba800-e744-4369-c324-2d28f5a3f8f3"
      },
      "execution_count": null,
      "outputs": [
        {
          "output_type": "execute_result",
          "data": {
            "text/plain": [
              "(5,\n",
              " array(['BACKGROUND', 'CONCLUSIONS', 'METHODS', 'OBJECTIVE', 'RESULTS'],\n",
              "       dtype=object))"
            ]
          },
          "metadata": {},
          "execution_count": 22
        }
      ]
    },
    {
      "cell_type": "code",
      "source": [
        "baseline_model = Pipeline([\n",
        "    ('tf-idf', TfidfVectorizer()),\n",
        "    ('clf', MultinomialNB())\n",
        "])\n",
        "\n",
        "baseline_model.fit(X = train_sentences,\n",
        "                   y = train_labels_label_encoded)"
      ],
      "metadata": {
        "colab": {
          "base_uri": "https://localhost:8080/",
          "height": 125
        },
        "id": "KmOlA6SrLu26",
        "outputId": "743bbcc5-a30d-4c62-966e-7056870f6708"
      },
      "execution_count": null,
      "outputs": [
        {
          "output_type": "execute_result",
          "data": {
            "text/plain": [
              "Pipeline(steps=[('tf-idf', TfidfVectorizer()), ('clf', MultinomialNB())])"
            ],
            "text/html": [
              "<style>#sk-container-id-1 {color: black;background-color: white;}#sk-container-id-1 pre{padding: 0;}#sk-container-id-1 div.sk-toggleable {background-color: white;}#sk-container-id-1 label.sk-toggleable__label {cursor: pointer;display: block;width: 100%;margin-bottom: 0;padding: 0.3em;box-sizing: border-box;text-align: center;}#sk-container-id-1 label.sk-toggleable__label-arrow:before {content: \"▸\";float: left;margin-right: 0.25em;color: #696969;}#sk-container-id-1 label.sk-toggleable__label-arrow:hover:before {color: black;}#sk-container-id-1 div.sk-estimator:hover label.sk-toggleable__label-arrow:before {color: black;}#sk-container-id-1 div.sk-toggleable__content {max-height: 0;max-width: 0;overflow: hidden;text-align: left;background-color: #f0f8ff;}#sk-container-id-1 div.sk-toggleable__content pre {margin: 0.2em;color: black;border-radius: 0.25em;background-color: #f0f8ff;}#sk-container-id-1 input.sk-toggleable__control:checked~div.sk-toggleable__content {max-height: 200px;max-width: 100%;overflow: auto;}#sk-container-id-1 input.sk-toggleable__control:checked~label.sk-toggleable__label-arrow:before {content: \"▾\";}#sk-container-id-1 div.sk-estimator input.sk-toggleable__control:checked~label.sk-toggleable__label {background-color: #d4ebff;}#sk-container-id-1 div.sk-label input.sk-toggleable__control:checked~label.sk-toggleable__label {background-color: #d4ebff;}#sk-container-id-1 input.sk-hidden--visually {border: 0;clip: rect(1px 1px 1px 1px);clip: rect(1px, 1px, 1px, 1px);height: 1px;margin: -1px;overflow: hidden;padding: 0;position: absolute;width: 1px;}#sk-container-id-1 div.sk-estimator {font-family: monospace;background-color: #f0f8ff;border: 1px dotted black;border-radius: 0.25em;box-sizing: border-box;margin-bottom: 0.5em;}#sk-container-id-1 div.sk-estimator:hover {background-color: #d4ebff;}#sk-container-id-1 div.sk-parallel-item::after {content: \"\";width: 100%;border-bottom: 1px solid gray;flex-grow: 1;}#sk-container-id-1 div.sk-label:hover label.sk-toggleable__label {background-color: #d4ebff;}#sk-container-id-1 div.sk-serial::before {content: \"\";position: absolute;border-left: 1px solid gray;box-sizing: border-box;top: 0;bottom: 0;left: 50%;z-index: 0;}#sk-container-id-1 div.sk-serial {display: flex;flex-direction: column;align-items: center;background-color: white;padding-right: 0.2em;padding-left: 0.2em;position: relative;}#sk-container-id-1 div.sk-item {position: relative;z-index: 1;}#sk-container-id-1 div.sk-parallel {display: flex;align-items: stretch;justify-content: center;background-color: white;position: relative;}#sk-container-id-1 div.sk-item::before, #sk-container-id-1 div.sk-parallel-item::before {content: \"\";position: absolute;border-left: 1px solid gray;box-sizing: border-box;top: 0;bottom: 0;left: 50%;z-index: -1;}#sk-container-id-1 div.sk-parallel-item {display: flex;flex-direction: column;z-index: 1;position: relative;background-color: white;}#sk-container-id-1 div.sk-parallel-item:first-child::after {align-self: flex-end;width: 50%;}#sk-container-id-1 div.sk-parallel-item:last-child::after {align-self: flex-start;width: 50%;}#sk-container-id-1 div.sk-parallel-item:only-child::after {width: 0;}#sk-container-id-1 div.sk-dashed-wrapped {border: 1px dashed gray;margin: 0 0.4em 0.5em 0.4em;box-sizing: border-box;padding-bottom: 0.4em;background-color: white;}#sk-container-id-1 div.sk-label label {font-family: monospace;font-weight: bold;display: inline-block;line-height: 1.2em;}#sk-container-id-1 div.sk-label-container {text-align: center;}#sk-container-id-1 div.sk-container {/* jupyter's `normalize.less` sets `[hidden] { display: none; }` but bootstrap.min.css set `[hidden] { display: none !important; }` so we also need the `!important` here to be able to override the default hidden behavior on the sphinx rendered scikit-learn.org. See: https://github.com/scikit-learn/scikit-learn/issues/21755 */display: inline-block !important;position: relative;}#sk-container-id-1 div.sk-text-repr-fallback {display: none;}</style><div id=\"sk-container-id-1\" class=\"sk-top-container\"><div class=\"sk-text-repr-fallback\"><pre>Pipeline(steps=[(&#x27;tf-idf&#x27;, TfidfVectorizer()), (&#x27;clf&#x27;, MultinomialNB())])</pre><b>In a Jupyter environment, please rerun this cell to show the HTML representation or trust the notebook. <br />On GitHub, the HTML representation is unable to render, please try loading this page with nbviewer.org.</b></div><div class=\"sk-container\" hidden><div class=\"sk-item sk-dashed-wrapped\"><div class=\"sk-label-container\"><div class=\"sk-label sk-toggleable\"><input class=\"sk-toggleable__control sk-hidden--visually\" id=\"sk-estimator-id-1\" type=\"checkbox\" ><label for=\"sk-estimator-id-1\" class=\"sk-toggleable__label sk-toggleable__label-arrow\">Pipeline</label><div class=\"sk-toggleable__content\"><pre>Pipeline(steps=[(&#x27;tf-idf&#x27;, TfidfVectorizer()), (&#x27;clf&#x27;, MultinomialNB())])</pre></div></div></div><div class=\"sk-serial\"><div class=\"sk-item\"><div class=\"sk-estimator sk-toggleable\"><input class=\"sk-toggleable__control sk-hidden--visually\" id=\"sk-estimator-id-2\" type=\"checkbox\" ><label for=\"sk-estimator-id-2\" class=\"sk-toggleable__label sk-toggleable__label-arrow\">TfidfVectorizer</label><div class=\"sk-toggleable__content\"><pre>TfidfVectorizer()</pre></div></div></div><div class=\"sk-item\"><div class=\"sk-estimator sk-toggleable\"><input class=\"sk-toggleable__control sk-hidden--visually\" id=\"sk-estimator-id-3\" type=\"checkbox\" ><label for=\"sk-estimator-id-3\" class=\"sk-toggleable__label sk-toggleable__label-arrow\">MultinomialNB</label><div class=\"sk-toggleable__content\"><pre>MultinomialNB()</pre></div></div></div></div></div></div></div>"
            ]
          },
          "metadata": {},
          "execution_count": 23
        }
      ]
    },
    {
      "cell_type": "code",
      "source": [
        "baseline_model.score(X = validation_sentences,\n",
        "                     y = validation_labels_label_encoded)"
      ],
      "metadata": {
        "colab": {
          "base_uri": "https://localhost:8080/"
        },
        "id": "ak2g6DXaNPBT",
        "outputId": "89588924-7b13-4bec-e0a3-1bd879f11128"
      },
      "execution_count": null,
      "outputs": [
        {
          "output_type": "execute_result",
          "data": {
            "text/plain": [
              "0.7218323844829869"
            ]
          },
          "metadata": {},
          "execution_count": 24
        }
      ]
    },
    {
      "cell_type": "code",
      "source": [
        "baseline_preds = baseline_model.predict(validation_sentences)\n",
        "baseline_results = calculate_results(y_true = validation_labels_label_encoded,\n",
        "                                     y_pred = baseline_preds)\n",
        "baseline_results"
      ],
      "metadata": {
        "colab": {
          "base_uri": "https://localhost:8080/"
        },
        "id": "VoQ-ahRONYZe",
        "outputId": "4633d413-4ed6-45ed-9d99-7a8d7a4c2759"
      },
      "execution_count": null,
      "outputs": [
        {
          "output_type": "execute_result",
          "data": {
            "text/plain": [
              "{'accuracy': 72.1832384482987,\n",
              " 'precision': 0.7186466952323352,\n",
              " 'recall': 0.7218323844829869,\n",
              " 'f1': 0.6989250353450294}"
            ]
          },
          "metadata": {},
          "execution_count": 25
        }
      ]
    },
    {
      "cell_type": "code",
      "source": [
        "sentence_lengths = [len(sentence.split()) for sentence in train_sentences]\n",
        "average_sentence_length = np.mean(sentence_lengths)\n",
        "average_sentence_length"
      ],
      "metadata": {
        "colab": {
          "base_uri": "https://localhost:8080/"
        },
        "id": "RpFTfoacO5mZ",
        "outputId": "27f2d257-4600-4123-beef-dd6d608a8419"
      },
      "execution_count": null,
      "outputs": [
        {
          "output_type": "execute_result",
          "data": {
            "text/plain": [
              "26.338269273494777"
            ]
          },
          "metadata": {},
          "execution_count": 26
        }
      ]
    },
    {
      "cell_type": "code",
      "source": [
        "plt.hist(sentence_lengths, bins = 20)"
      ],
      "metadata": {
        "colab": {
          "base_uri": "https://localhost:8080/",
          "height": 569
        },
        "id": "xpZNVva3Pdt-",
        "outputId": "a85d44c0-d22f-45f5-dfbd-a1da0887d6e3"
      },
      "execution_count": null,
      "outputs": [
        {
          "output_type": "execute_result",
          "data": {
            "text/plain": [
              "(array([4.2075e+04, 8.3771e+04, 3.6877e+04, 1.0945e+04, 3.9310e+03,\n",
              "        1.4450e+03, 5.6000e+02, 2.2600e+02, 1.0100e+02, 4.5000e+01,\n",
              "        2.0000e+01, 1.2000e+01, 9.0000e+00, 1.0000e+01, 6.0000e+00,\n",
              "        2.0000e+00, 3.0000e+00, 0.0000e+00, 1.0000e+00, 1.0000e+00]),\n",
              " array([  1.  ,  15.75,  30.5 ,  45.25,  60.  ,  74.75,  89.5 , 104.25,\n",
              "        119.  , 133.75, 148.5 , 163.25, 178.  , 192.75, 207.5 , 222.25,\n",
              "        237.  , 251.75, 266.5 , 281.25, 296.  ]),\n",
              " <BarContainer object of 20 artists>)"
            ]
          },
          "metadata": {},
          "execution_count": 27
        },
        {
          "output_type": "display_data",
          "data": {
            "text/plain": [
              "<Figure size 640x480 with 1 Axes>"
            ],
            "image/png": "[encoded data removed]"
          },
          "metadata": {}
        }
      ]
    },
    {
      "cell_type": "code",
      "source": [
        "output_sentence_length = int(np.percentile(sentence_lengths, 95))\n",
        "output_sentence_length"
      ],
      "metadata": {
        "colab": {
          "base_uri": "https://localhost:8080/"
        },
        "id": "-4M3E5eWPxku",
        "outputId": "cb1da370-32fc-4a86-f8c8-94f3fee8629b"
      },
      "execution_count": null,
      "outputs": [
        {
          "output_type": "execute_result",
          "data": {
            "text/plain": [
              "55"
            ]
          },
          "metadata": {},
          "execution_count": 28
        }
      ]
    },
    {
      "cell_type": "code",
      "source": [
        "max_tokens = 68000"
      ],
      "metadata": {
        "id": "MvFQzvp6QXHb"
      },
      "execution_count": null,
      "outputs": []
    },
    {
      "cell_type": "code",
      "source": [
        "token_vectorizer = tf.keras.layers.experimental.preprocessing.TextVectorization(max_tokens = max_tokens,\n",
        "                                                                               output_sequence_length = output_sentence_length)"
      ],
      "metadata": {
        "id": "Wl511YJeNvuk"
      },
      "execution_count": null,
      "outputs": []
    },
    {
      "cell_type": "code",
      "source": [
        "token_vectorizer.adapt(train_sentences)"
      ],
      "metadata": {
        "id": "fjuXQxGdawly"
      },
      "execution_count": null,
      "outputs": []
    },
    {
      "cell_type": "code",
      "source": [
        "sample_sentence = random.choice(train_sentences)\n",
        "print(f'Text:\\n{sample_sentence}')\n",
        "print(f'\\nLength of sentence: {len(sample_sentence.split())}')\n",
        "print(f'\\nVectorized text: {token_vectorizer([sample_sentence])}')"
      ],
      "metadata": {
        "colab": {
          "base_uri": "https://localhost:8080/"
        },
        "id": "k7qlLJKra9CU",
        "outputId": "563146e2-0eaa-4885-dcd3-ed9882323b49"
      },
      "execution_count": null,
      "outputs": [
        {
          "output_type": "stream",
          "name": "stdout",
          "text": [
            "Text:\n",
            "the participants were then randomly assigned to receive a postoperative course of prednisolone @ mg/kg/d or no prednisolone over @ days .\n",
            "\n",
            "Length of sentence: 22\n",
            "\n",
            "Vectorized text: [[   2   60    9  516   92  123    6  175    8  163  656    4 2535 7841\n",
            "    16   33 2535  145   84    0    0    0    0    0    0    0    0    0\n",
            "     0    0    0    0    0    0    0    0    0    0    0    0    0    0\n",
            "     0    0    0    0    0    0    0    0    0    0    0    0    0]]\n"
          ]
        }
      ]
    },
    {
      "cell_type": "code",
      "source": [
        "token_vocab = token_vectorizer.get_vocabulary()\n",
        "print(f'Number of words in token_vocab: {len(token_vocab)}')\n",
        "print(f'Most common words in token_vocab: {(token_vocab[:10])}')\n",
        "print(f'Least common words in token_vocab: {(token_vocab[-10:])}')"
      ],
      "metadata": {
        "colab": {
          "base_uri": "https://localhost:8080/"
        },
        "id": "S9TVP3nhb5Jb",
        "outputId": "94c94160-ef24-41e9-f297-25fb96921140"
      },
      "execution_count": null,
      "outputs": [
        {
          "output_type": "stream",
          "name": "stdout",
          "text": [
            "Number of words in token_vocab: 64841\n",
            "Most common words in token_vocab: ['', '[UNK]', 'the', 'and', 'of', 'in', 'to', 'with', 'a', 'were']\n",
            "Least common words in token_vocab: ['aarm', 'aaqol', 'aaq', 'aanhui', 'aana', 'aainduced', 'aaigroup', 'aachener', 'aachen', 'aaacp']\n"
          ]
        }
      ]
    },
    {
      "cell_type": "code",
      "source": [
        "token_vectorizer.get_config()"
      ],
      "metadata": {
        "colab": {
          "base_uri": "https://localhost:8080/"
        },
        "id": "UHwZmB0bcXCR",
        "outputId": "801fc01a-a955-4bb6-9caf-922ea4ecab2f"
      },
      "execution_count": null,
      "outputs": [
        {
          "output_type": "execute_result",
          "data": {
            "text/plain": [
              "{'name': 'text_vectorization',\n",
              " 'trainable': True,\n",
              " 'dtype': 'string',\n",
              " 'batch_input_shape': (None,),\n",
              " 'max_tokens': 68000,\n",
              " 'standardize': 'lower_and_strip_punctuation',\n",
              " 'split': 'whitespace',\n",
              " 'ngrams': None,\n",
              " 'output_mode': 'int',\n",
              " 'output_sequence_length': 55,\n",
              " 'pad_to_max_tokens': False,\n",
              " 'sparse': False,\n",
              " 'ragged': False,\n",
              " 'vocabulary': None,\n",
              " 'idf_weights': None,\n",
              " 'encoding': 'utf-8',\n",
              " 'vocabulary_size': 64841}"
            ]
          },
          "metadata": {},
          "execution_count": 34
        }
      ]
    },
    {
      "cell_type": "code",
      "source": [
        "token_embedder = tf.keras.layers.Embedding(input_dim = len(token_vocab),\n",
        "                                          output_dim = 128,\n",
        "                                          mask_zero = True,\n",
        "                                          name = 'token_embedding_layer')"
      ],
      "metadata": {
        "id": "S8SDxSxLcaXw"
      },
      "execution_count": null,
      "outputs": []
    },
    {
      "cell_type": "code",
      "source": [
        "print(f'Sentence:\\n {sample_sentence}\\n')\n",
        "vectorized_sample_sentence = token_vectorizer([sample_sentence])\n",
        "print(f'Vectorized sentence:\\n{vectorized_sample_sentence}\\n')\n",
        "embedded_sample_sentence = token_embedder(vectorized_sample_sentence)\n",
        "print(f'Embedded sentence:\\n{embedded_sample_sentence}\\n')"
      ],
      "metadata": {
        "colab": {
          "base_uri": "https://localhost:8080/"
        },
        "id": "LSRKcr8lgeVT",
        "outputId": "6c35711f-9ae3-4fd8-9e41-72fd6ea5a660"
      },
      "execution_count": null,
      "outputs": [
        {
          "output_type": "stream",
          "name": "stdout",
          "text": [
            "Sentence:\n",
            " the participants were then randomly assigned to receive a postoperative course of prednisolone @ mg/kg/d or no prednisolone over @ days .\n",
            "\n",
            "Vectorized sentence:\n",
            "[[   2   60    9  516   92  123    6  175    8  163  656    4 2535 7841\n",
            "    16   33 2535  145   84    0    0    0    0    0    0    0    0    0\n",
            "     0    0    0    0    0    0    0    0    0    0    0    0    0    0\n",
            "     0    0    0    0    0    0    0    0    0    0    0    0    0]]\n",
            "\n",
            "Embedded sentence:\n",
            "[[[-0.03253154  0.03991138  0.01155235 ...  0.03286452 -0.04740696\n",
            "    0.0409775 ]\n",
            "  [ 0.00197904 -0.0339698   0.02600947 ...  0.03498003  0.02382156\n",
            "    0.0256889 ]\n",
            "  [-0.03637949  0.01163527  0.03312557 ...  0.03827978 -0.01891283\n",
            "   -0.04568854]\n",
            "  ...\n",
            "  [-0.04463362 -0.0327694  -0.01861227 ... -0.04338708  0.03251157\n",
            "    0.02938192]\n",
            "  [-0.04463362 -0.0327694  -0.01861227 ... -0.04338708  0.03251157\n",
            "    0.02938192]\n",
            "  [-0.04463362 -0.0327694  -0.01861227 ... -0.04338708  0.03251157\n",
            "    0.02938192]]]\n",
            "\n"
          ]
        }
      ]
    },
    {
      "cell_type": "code",
      "source": [
        "train_token_data = tf.data.Dataset.from_tensor_slices((train_sentences, train_labels_one_hot_encoded))\n",
        "validation_token_data = tf.data.Dataset.from_tensor_slices((validation_sentences, validation_labels_one_hot_encoded))\n",
        "test_token_data = tf.data.Dataset.from_tensor_slices((test_sentences, test_labels_one_hot_encoded))"
      ],
      "metadata": {
        "id": "-wCa_INRhojW"
      },
      "execution_count": null,
      "outputs": []
    },
    {
      "cell_type": "code",
      "source": [
        "train_token_data = train_token_data.batch(32).prefetch(tf.data.AUTOTUNE)\n",
        "validation_token_data = validation_token_data.batch(32).prefetch(tf.data.AUTOTUNE)\n",
        "test_token_data = test_token_data.batch(32).prefetch(tf.data.AUTOTUNE)"
      ],
      "metadata": {
        "id": "wFWKf1YbjrSH"
      },
      "execution_count": null,
      "outputs": []
    },
    {
      "cell_type": "code",
      "source": [
        "inputs = tf.keras.layers.Input(shape = (1,), dtype = tf.string)\n",
        "text_vectors = token_vectorizer(inputs)\n",
        "text_embeddings = token_embedder(text_vectors)\n",
        "x = tf.keras.layers.Conv1D(64, kernel_size = 5, padding = 'same', activation = 'relu')(text_embeddings)\n",
        "x = tf.keras.layers.GlobalAveragePooling1D()(x)\n",
        "outputs = tf.keras.layers.Dense(total_classes, activation = 'softmax')(x)\n",
        "model_1 = tf.keras.Model(inputs, outputs, name = 'conv1d_20k')"
      ],
      "metadata": {
        "id": "h8Rwn2WqkJWa"
      },
      "execution_count": null,
      "outputs": []
    },
    {
      "cell_type": "code",
      "source": [
        "model_1.compile(loss = tf.keras.losses.categorical_crossentropy,\n",
        "                optimizer = tf.keras.optimizers.Adam(learning_rate = 0.003),\n",
        "                metrics = ['accuracy'])"
      ],
      "metadata": {
        "id": "nrGuXYZDltO1"
      },
      "execution_count": null,
      "outputs": []
    },
    {
      "cell_type": "code",
      "source": [
        "model_1_history = model_1.fit(train_token_data,\n",
        "                              epochs = 5,\n",
        "                              steps_per_epoch = int(0.25 * len(train_token_data)),\n",
        "                              validation_data = validation_token_data,\n",
        "                              validation_steps = int(0.25 * len(validation_token_data)),\n",
        "                              callbacks=[create_tensorboard_callback(dir_name = LOGS_DIR, experiment_name = 'conv1d_20k')])"
      ],
      "metadata": {
        "colab": {
          "base_uri": "https://localhost:8080/"
        },
        "id": "SLlmuechl4Q1",
        "outputId": "e11bac9c-fe23-446b-eadc-abf6ef7f9267"
      },
      "execution_count": null,
      "outputs": [
        {
          "output_type": "stream",
          "name": "stdout",
          "text": [
            "Saving TensorBoard log files to: logs//conv1d_20k/20230628-042411\n",
            "Epoch 1/5\n",
            "1406/1406 [==============================] - 202s 142ms/step - loss: 0.6825 - accuracy: 0.7456 - val_loss: 0.5782 - val_accuracy: 0.7908\n",
            "Epoch 2/5\n",
            "1406/1406 [==============================] - 176s 125ms/step - loss: 0.5733 - accuracy: 0.7942 - val_loss: 0.5370 - val_accuracy: 0.8084\n",
            "Epoch 3/5\n",
            "1406/1406 [==============================] - 203s 145ms/step - loss: 0.5455 - accuracy: 0.8059 - val_loss: 0.5200 - val_accuracy: 0.8095\n",
            "Epoch 4/5\n",
            "1406/1406 [==============================] - 206s 147ms/step - loss: 0.5234 - accuracy: 0.8120 - val_loss: 0.5386 - val_accuracy: 0.8034\n",
            "Epoch 5/5\n",
            "   3/1406 [..............................] - ETA: 3:32 - loss: 0.7070 - accuracy: 0.7778"
          ]
        },
        {
          "output_type": "stream",
          "name": "stderr",
          "text": [
            "WARNING:tensorflow:Your input ran out of data; interrupting training. Make sure that your dataset or generator can generate at least `steps_per_epoch * epochs` batches (in this case, 7030 batches). You may need to use the repeat() function when building your dataset.\n"
          ]
        },
        {
          "output_type": "stream",
          "name": "stdout",
          "text": [
            "\b\b\b\b\b\b\b\b\b\b\b\b\b\b\b\b\b\b\b\b\b\b\b\b\b\b\b\b\b\b\b\b\b\b\b\b\b\b\b\b\b\b\b\b\b\b\b\b\b\b\b\b\b\b\b\b\b\b\b\b\b\b\b\b\b\b\b\b\b\b\b\b\b\b\b\b\b\b\b\b\b\b\b\b\b\b\b\b\r1406/1406 [==============================] - 5s 3ms/step - loss: 0.7070 - accuracy: 0.7778 - val_loss: 0.5425 - val_accuracy: 0.8026\n"
          ]
        }
      ]
    },
    {
      "cell_type": "code",
      "source": [
        "model_1.evaluate(validation_token_data)"
      ],
      "metadata": {
        "colab": {
          "base_uri": "https://localhost:8080/"
        },
        "id": "od9e3NFFnX7h",
        "outputId": "1a27c2ac-2b0c-43e8-b597-42b474eeb1d4"
      },
      "execution_count": null,
      "outputs": [
        {
          "output_type": "stream",
          "name": "stdout",
          "text": [
            "945/945 [==============================] - 6s 7ms/step - loss: 0.5344 - accuracy: 0.8095\n"
          ]
        },
        {
          "output_type": "execute_result",
          "data": {
            "text/plain": [
              "[0.5343501567840576, 0.8095458745956421]"
            ]
          },
          "metadata": {},
          "execution_count": 42
        }
      ]
    },
    {
      "cell_type": "code",
      "source": [
        "model_1_preds = tf.argmax(model_1.predict(validation_token_data), axis = 1)\n",
        "model_1_preds, validation_labels_one_hot_encoded"
      ],
      "metadata": {
        "colab": {
          "base_uri": "https://localhost:8080/"
        },
        "id": "PVzkZs5Ao38_",
        "outputId": "7394f7c5-3be0-48b5-a007-e231154f6a76"
      },
      "execution_count": null,
      "outputs": [
        {
          "output_type": "stream",
          "name": "stdout",
          "text": [
            "945/945 [==============================] - 10s 9ms/step\n"
          ]
        },
        {
          "output_type": "execute_result",
          "data": {
            "text/plain": [
              "(<tf.Tensor: shape=(30212,), dtype=int64, numpy=array([0, 0, 3, ..., 4, 1, 1])>,\n",
              " array([[1., 0., 0., 0., 0.],\n",
              "        [1., 0., 0., 0., 0.],\n",
              "        [0., 0., 0., 1., 0.],\n",
              "        ...,\n",
              "        [0., 0., 0., 0., 1.],\n",
              "        [0., 1., 0., 0., 0.],\n",
              "        [0., 1., 0., 0., 0.]]))"
            ]
          },
          "metadata": {},
          "execution_count": 43
        }
      ]
    },
    {
      "cell_type": "code",
      "source": [
        "model_1_results = calculate_results(y_true = validation_labels_label_encoded,\n",
        "                                    y_pred = model_1_preds)\n",
        "model_1_results"
      ],
      "metadata": {
        "colab": {
          "base_uri": "https://localhost:8080/"
        },
        "id": "iYKdD4eOpMdq",
        "outputId": "2d08e0ce-8635-453c-8978-66906fcca1d4"
      },
      "execution_count": null,
      "outputs": [
        {
          "output_type": "execute_result",
          "data": {
            "text/plain": [
              "{'accuracy': 80.9545875810936,\n",
              " 'precision': 0.8153065151100644,\n",
              " 'recall': 0.8095458758109361,\n",
              " 'f1': 0.8046808251288261}"
            ]
          },
          "metadata": {},
          "execution_count": 44
        }
      ]
    },
    {
      "cell_type": "code",
      "source": [
        "use = tfhub.KerasLayer('https://tfhub.dev/google/universal-sentence-encoder/4',\n",
        "                        trainable =  False,\n",
        "                        name = 'universal_sentence_encoder_layer')"
      ],
      "metadata": {
        "id": "AFFTcmOopocE"
      },
      "execution_count": null,
      "outputs": []
    },
    {
      "cell_type": "code",
      "source": [
        "print(f'Sentence:\\n {sample_sentence}\\n')\n",
        "use_sample_sentence = use([sample_sentence])\n",
        "print(f'Embedded sentence:\\n{use_sample_sentence}\\n')"
      ],
      "metadata": {
        "colab": {
          "base_uri": "https://localhost:8080/"
        },
        "id": "2oFN76eHuK6_",
        "outputId": "4637f17c-e9bb-4c2f-801b-d433ef1d8fc2"
      },
      "execution_count": null,
      "outputs": [
        {
          "output_type": "stream",
          "name": "stdout",
          "text": [
            "Sentence:\n",
            " the participants were then randomly assigned to receive a postoperative course of prednisolone @ mg/kg/d or no prednisolone over @ days .\n",
            "\n",
            "Embedded sentence:\n",
            "[[-0.00269957 -0.03058234  0.06713414 -0.01453899 -0.05550906  0.0908328\n",
            "   0.02495463  0.02464805 -0.07921483 -0.00743124  0.09171266  0.02515391\n",
            "   0.0222116   0.044998    0.06255586  0.01085025 -0.08206999 -0.06386785\n",
            "  -0.05864268  0.07808933  0.05389902  0.07418694 -0.05868735 -0.01161952\n",
            "   0.06037422  0.0547921   0.03614981 -0.02388203 -0.07101449 -0.00706474\n",
            "   0.0468632   0.10073388  0.02062691 -0.00370096 -0.00842364  0.02851322\n",
            "  -0.04078892 -0.0839383   0.06516314 -0.03590125 -0.02410826  0.08000461\n",
            "  -0.00021732 -0.0567722   0.06164513  0.07434314  0.06088684  0.01754533\n",
            "   0.03925993  0.01750667 -0.01076177  0.01587096  0.04798763  0.00422821\n",
            "   0.04039649  0.02180498 -0.05122846  0.01661418  0.01420086 -0.03860142\n",
            "  -0.04381341  0.01126274 -0.03235342 -0.03491827  0.00691559 -0.01749843\n",
            "   0.01360684 -0.05487613  0.04639618 -0.02293785  0.06260676 -0.06673568\n",
            "   0.01746146  0.02620269 -0.06000671  0.01699962  0.02487571  0.06619325\n",
            "  -0.04945122  0.03365923 -0.0344893   0.01904558 -0.05125842 -0.02430733\n",
            "   0.0267357   0.08746422 -0.02901977  0.05267666 -0.04786259 -0.0391622\n",
            "  -0.01139167  0.02313573 -0.07337264  0.0154093   0.07589313 -0.00695208\n",
            "   0.02634954 -0.07669301 -0.0419222   0.00569833 -0.04323587 -0.03838398\n",
            "   0.05957359 -0.00203568  0.0504034   0.00998056  0.01946735  0.06759208\n",
            "  -0.05137104 -0.07226017  0.01814198 -0.02822388 -0.01306007  0.07585961\n",
            "  -0.00511942 -0.04065006 -0.07220491 -0.06321371 -0.06746665  0.06574731\n",
            "   0.00204744  0.03272891  0.01592448 -0.02519138 -0.03387915 -0.06592431\n",
            "  -0.02978304 -0.01602044  0.05445865  0.04286007  0.03969768  0.0823632\n",
            "   0.07918139  0.01572666 -0.0391739  -0.08019365  0.04957711 -0.01132313\n",
            "   0.01174914 -0.00390264  0.04445696  0.03006545 -0.01804555 -0.03438046\n",
            "  -0.00485184  0.002665   -0.01235725 -0.01216563  0.04982732  0.03887689\n",
            "   0.06779976 -0.0168412   0.04632156 -0.00224929  0.0502914  -0.01920995\n",
            "  -0.06594162  0.05082798 -0.02613769  0.008734   -0.00385209  0.02467941\n",
            "   0.01091609 -0.05397151 -0.04347193 -0.04614047 -0.03696465 -0.02328938\n",
            "   0.05919939 -0.00433123 -0.003387   -0.08373073 -0.02376723 -0.02943294\n",
            "  -0.0591762  -0.00926013  0.02599538  0.0170171   0.02934469 -0.00361629\n",
            "  -0.0223584  -0.01629961 -0.02304607  0.02408078  0.0542094   0.02315576\n",
            "   0.0179937   0.02963245 -0.00626829 -0.02696728 -0.02943752 -0.00430506\n",
            "   0.0355677  -0.02284555 -0.00079508  0.06055254  0.00874182 -0.00992025\n",
            "  -0.0207032   0.0161122  -0.01183971 -0.02435242 -0.01277902  0.01669959\n",
            "   0.05577793  0.03993614  0.04285001 -0.05437021 -0.00844682  0.03682976\n",
            "  -0.03531733 -0.01581591 -0.01599381  0.01350972 -0.05196849 -0.0763154\n",
            "   0.04825357 -0.04535215  0.06570653 -0.03596743 -0.04602107  0.03065857\n",
            "  -0.00108385 -0.01795309  0.05094646 -0.00023976  0.07971685  0.00071105\n",
            "  -0.02482095  0.03425013  0.03101959  0.03565468  0.01104332 -0.07472977\n",
            "   0.08020389  0.02429226  0.05215028 -0.02145636  0.04467289 -0.08201163\n",
            "   0.03559419 -0.04601388 -0.02813732  0.04065284 -0.04913459 -0.04659172\n",
            "  -0.05367976 -0.05094653 -0.04923059 -0.08830153  0.06035228 -0.07184616\n",
            "   0.05898169  0.02932211  0.07247885  0.00193811 -0.03441343 -0.0154282\n",
            "  -0.011562    0.02794485 -0.03773557  0.04686153  0.00701533  0.01340173\n",
            "  -0.06514043 -0.01038957 -0.0189098   0.00015289 -0.01717595  0.06037191\n",
            "  -0.08516537 -0.04182878  0.02013714 -0.03377125 -0.05277892 -0.03172924\n",
            "  -0.06065036  0.03275795  0.04980619  0.04333017  0.03752744 -0.0390251\n",
            "  -0.05057511 -0.05015169  0.03012613 -0.06390517  0.02730867  0.00648508\n",
            "  -0.00021613 -0.02372929  0.04292459 -0.09485029  0.00888566  0.01374402\n",
            "  -0.08000194 -0.06488094  0.04185598 -0.0105738  -0.02399695 -0.09735659\n",
            "  -0.05924329  0.0858025   0.02871109 -0.0204085   0.02682385  0.0368095\n",
            "   0.05594702  0.02133781 -0.04398993 -0.01427542  0.0360669  -0.02491722\n",
            "  -0.01233193 -0.00849233  0.00210348  0.01643659 -0.07192949  0.07914484\n",
            "   0.09807231 -0.00840221 -0.06214844 -0.05759653  0.03859467 -0.02799569\n",
            "  -0.07617266  0.02274981  0.00414811  0.01143972  0.01550536 -0.00536788\n",
            "  -0.08869423 -0.01748482  0.03750185  0.07406552 -0.00590934 -0.00216747\n",
            "   0.02566676 -0.01666011 -0.05469242  0.06711838  0.03296776 -0.02067622\n",
            "   0.09675499  0.05659502  0.02920303 -0.06420031  0.06638477  0.05352242\n",
            "  -0.0058917  -0.0256652  -0.02311829  0.00669093 -0.05829748  0.03571891\n",
            "   0.00404558 -0.00211309 -0.05945214 -0.07066143 -0.00915524 -0.01044026\n",
            "   0.0526137  -0.05117941 -0.02372605 -0.04368288  0.05420605 -0.06085726\n",
            "   0.02723367  0.08802394 -0.04108324  0.02087815  0.01857078 -0.06703822\n",
            "  -0.04016846  0.07513899  0.06731828  0.04524473 -0.02053137 -0.03042112\n",
            "   0.01461873  0.02064239 -0.01802441  0.06848403 -0.03811081 -0.02929167\n",
            "  -0.00314621 -0.02215845 -0.05169039  0.00797151  0.0461538   0.05415636\n",
            "  -0.00837411  0.04094195 -0.06302845 -0.07215382 -0.09405678  0.01970697\n",
            "  -0.04343947 -0.01624548 -0.0111298  -0.09577604  0.07553006 -0.04747136\n",
            "   0.04965468 -0.03770498  0.01705125 -0.02511104  0.06349207  0.03068359\n",
            "   0.00764059 -0.05502147  0.02264572  0.01043066 -0.04103241  0.00335266\n",
            "   0.03221013  0.01439917 -0.02769204 -0.00814183  0.06458414 -0.04029786\n",
            "   0.01552178  0.02991524 -0.06030271  0.04504327 -0.02145261  0.0134199\n",
            "  -0.07124854 -0.02148809  0.05099234 -0.01511075 -0.07609434 -0.00827815\n",
            "   0.03946817  0.09942675  0.02410251  0.04198693  0.079591    0.02513872\n",
            "  -0.00333733 -0.06215399 -0.01089462  0.07257868 -0.00969515 -0.01074573\n",
            "  -0.01795571 -0.02677152 -0.0849607   0.04024262 -0.02657479  0.04422449\n",
            "  -0.00551979  0.00047263  0.05283519 -0.06348205 -0.00441271 -0.02138359\n",
            "  -0.01580577  0.06913124 -0.07635478  0.02006995 -0.00219987  0.06712545\n",
            "  -0.04726494 -0.05055256  0.02836406 -0.00562069 -0.02846701  0.03136809\n",
            "   0.01861289  0.01412201 -0.00181869  0.07929569 -0.01078117  0.04269251\n",
            "   0.03585403 -0.03862231  0.05395969 -0.00568397 -0.0655417   0.02702191\n",
            "   0.04790473 -0.00352654 -0.04165611 -0.04172045  0.03132221 -0.06717627\n",
            "  -0.0942698  -0.0164751  -0.00894014 -0.03263302  0.0485116   0.06439709\n",
            "   0.00960578 -0.05522434 -0.00792864 -0.01626531  0.01248025 -0.02403823\n",
            "   0.0482067  -0.00870419  0.04045467  0.00588986  0.02106641 -0.01363547\n",
            "   0.01578682 -0.10161522  0.0514315  -0.00642299  0.03854313 -0.04774388\n",
            "  -0.01142184 -0.02535388]]\n",
            "\n"
          ]
        }
      ]
    },
    {
      "cell_type": "code",
      "source": [
        "inputs = tf.keras.layers.Input(shape = [], dtype = tf.string)\n",
        "text_use_embedding = use(inputs)\n",
        "x = tf.keras.layers.Dense(128, activation = 'relu')(text_use_embedding)\n",
        "outputs = tf.keras.layers.Dense(total_classes, activation = 'softmax')(x)\n",
        "model_2 = tf.keras.Model(inputs, outputs, name = 'use_20k')"
      ],
      "metadata": {
        "id": "5HEytIuXuxXD"
      },
      "execution_count": null,
      "outputs": []
    },
    {
      "cell_type": "code",
      "source": [
        "model_2.compile(loss = tf.keras.losses.categorical_crossentropy,\n",
        "                optimizer = tf.keras.optimizers.Adam(learning_rate = 0.003),\n",
        "                metrics = ['accuracy'])"
      ],
      "metadata": {
        "id": "fmTPb9RCwFPv"
      },
      "execution_count": null,
      "outputs": []
    },
    {
      "cell_type": "code",
      "source": [
        "model_2_history = model_2.fit(train_token_data,\n",
        "                              epochs = 5,\n",
        "                              steps_per_epoch = int(0.25 * len(train_token_data)),\n",
        "                              validation_data = validation_token_data,\n",
        "                              validation_steps = int(0.25 * len(validation_token_data)),\n",
        "                              callbacks = [create_tensorboard_callback(dir_name = LOGS_DIR, experiment_name = 'use_20k')])"
      ],
      "metadata": {
        "colab": {
          "base_uri": "https://localhost:8080/"
        },
        "id": "1SLWVCYPwQi5",
        "outputId": "c1df0862-bf05-414c-b62b-0c21591a8705"
      },
      "execution_count": null,
      "outputs": [
        {
          "output_type": "stream",
          "name": "stdout",
          "text": [
            "Saving TensorBoard log files to: logs//use_20k/20230628-043830\n",
            "Epoch 1/5\n",
            "1406/1406 [==============================] - 43s 26ms/step - loss: 0.7697 - accuracy: 0.7016 - val_loss: 0.7109 - val_accuracy: 0.7255\n",
            "Epoch 2/5\n",
            "1406/1406 [==============================] - 33s 23ms/step - loss: 0.6820 - accuracy: 0.7383 - val_loss: 0.6519 - val_accuracy: 0.7530\n",
            "Epoch 3/5\n",
            "1406/1406 [==============================] - 35s 25ms/step - loss: 0.6617 - accuracy: 0.7478 - val_loss: 0.6377 - val_accuracy: 0.7533\n",
            "Epoch 4/5\n",
            "1406/1406 [==============================] - 39s 27ms/step - loss: 0.6417 - accuracy: 0.7566 - val_loss: 0.6375 - val_accuracy: 0.7585\n",
            "Epoch 5/5\n",
            "   3/1406 [..............................] - ETA: 43s - loss: 0.7754 - accuracy: 0.7222"
          ]
        },
        {
          "output_type": "stream",
          "name": "stderr",
          "text": [
            "WARNING:tensorflow:Your input ran out of data; interrupting training. Make sure that your dataset or generator can generate at least `steps_per_epoch * epochs` batches (in this case, 7030 batches). You may need to use the repeat() function when building your dataset.\n"
          ]
        },
        {
          "output_type": "stream",
          "name": "stdout",
          "text": [
            "\b\b\b\b\b\b\b\b\b\b\b\b\b\b\b\b\b\b\b\b\b\b\b\b\b\b\b\b\b\b\b\b\b\b\b\b\b\b\b\b\b\b\b\b\b\b\b\b\b\b\b\b\b\b\b\b\b\b\b\b\b\b\b\b\b\b\b\b\b\b\b\b\b\b\b\b\b\b\b\b\b\b\b\b\b\b\b\r1406/1406 [==============================] - 10s 7ms/step - loss: 0.7754 - accuracy: 0.7222 - val_loss: 0.6382 - val_accuracy: 0.7575\n"
          ]
        }
      ]
    },
    {
      "cell_type": "code",
      "source": [
        "model_2.evaluate(validation_token_data)"
      ],
      "metadata": {
        "colab": {
          "base_uri": "https://localhost:8080/"
        },
        "id": "Wiom2pz2wtuF",
        "outputId": "9c595b57-017c-45cf-acfd-8a69c5dbf3cc"
      },
      "execution_count": null,
      "outputs": [
        {
          "output_type": "stream",
          "name": "stdout",
          "text": [
            "945/945 [==============================] - 22s 23ms/step - loss: 0.6319 - accuracy: 0.7601\n"
          ]
        },
        {
          "output_type": "execute_result",
          "data": {
            "text/plain": [
              "[0.6319370865821838, 0.7600622177124023]"
            ]
          },
          "metadata": {},
          "execution_count": 50
        }
      ]
    },
    {
      "cell_type": "code",
      "source": [
        "model_2_preds = tf.argmax(model_2.predict(validation_token_data), axis = 1)"
      ],
      "metadata": {
        "colab": {
          "base_uri": "https://localhost:8080/"
        },
        "id": "exRM2h6OxJCb",
        "outputId": "bddc1b82-bdf8-4b99-fa1a-84e75de98d4b"
      },
      "execution_count": null,
      "outputs": [
        {
          "output_type": "stream",
          "name": "stdout",
          "text": [
            "945/945 [==============================] - 20s 21ms/step\n"
          ]
        }
      ]
    },
    {
      "cell_type": "code",
      "source": [
        "model_2_results = calculate_results(y_true = validation_labels_label_encoded,\n",
        "                                    y_pred = model_2_preds)\n",
        "model_2_results"
      ],
      "metadata": {
        "colab": {
          "base_uri": "https://localhost:8080/"
        },
        "id": "QImL0QYcxQu_",
        "outputId": "169d5843-b6b1-4ebd-8c42-76318e560dd6"
      },
      "execution_count": null,
      "outputs": [
        {
          "output_type": "execute_result",
          "data": {
            "text/plain": [
              "{'accuracy': 76.00622269296969,\n",
              " 'precision': 0.7564296492142734,\n",
              " 'recall': 0.7600622269296968,\n",
              " 'f1': 0.7555274054662652}"
            ]
          },
          "metadata": {},
          "execution_count": 52
        }
      ]
    },
    {
      "cell_type": "code",
      "source": [
        "def split_chars(text):\n",
        "  return ' '.join(list(text))"
      ],
      "metadata": {
        "id": "JJxtF7zmznhF"
      },
      "execution_count": null,
      "outputs": []
    },
    {
      "cell_type": "code",
      "source": [
        "train_chars = [split_chars(sentence) for sentence in train_sentences]\n",
        "validation_chars = [split_chars(sentence) for sentence in validation_sentences]\n",
        "test_chars = [split_chars(sentence) for sentence in test_sentences]"
      ],
      "metadata": {
        "id": "DQxduId3zs_P"
      },
      "execution_count": null,
      "outputs": []
    },
    {
      "cell_type": "code",
      "source": [
        "character_lengths = [len(sentence) for sentence in train_sentences]\n",
        "average_character_length = np.mean(character_lengths)\n",
        "average_character_length"
      ],
      "metadata": {
        "colab": {
          "base_uri": "https://localhost:8080/"
        },
        "id": "X-LGMmz50Ber",
        "outputId": "aa81b834-7832-4cad-dd3f-2fdb0f715bbd"
      },
      "execution_count": null,
      "outputs": [
        {
          "output_type": "execute_result",
          "data": {
            "text/plain": [
              "149.3662574983337"
            ]
          },
          "metadata": {},
          "execution_count": 55
        }
      ]
    },
    {
      "cell_type": "code",
      "source": [
        "plt.hist(character_lengths, bins = 5)"
      ],
      "metadata": {
        "colab": {
          "base_uri": "https://localhost:8080/",
          "height": 482
        },
        "id": "DDA9PwPy0BUh",
        "outputId": "5673db9f-3ce1-4187-da75-9e006f2be2a8"
      },
      "execution_count": null,
      "outputs": [
        {
          "output_type": "execute_result",
          "data": {
            "text/plain": [
              "(array([1.69034e+05, 1.07780e+04, 2.09000e+02, 1.60000e+01, 3.00000e+00]),\n",
              " array([1.000e+00, 2.780e+02, 5.550e+02, 8.320e+02, 1.109e+03, 1.386e+03]),\n",
              " <BarContainer object of 5 artists>)"
            ]
          },
          "metadata": {},
          "execution_count": 56
        },
        {
          "output_type": "display_data",
          "data": {
            "text/plain": [
              "<Figure size 640x480 with 1 Axes>"
            ],
            "image/png": "[encoded data removed]"
          },
          "metadata": {}
        }
      ]
    },
    {
      "cell_type": "code",
      "source": [
        "output_character_length = int(np.percentile(character_lengths, 95))\n",
        "output_character_length"
      ],
      "metadata": {
        "colab": {
          "base_uri": "https://localhost:8080/"
        },
        "id": "p7DcJvJv0BIr",
        "outputId": "72f9f190-53ec-4c7d-fc30-18b271a2d15b"
      },
      "execution_count": null,
      "outputs": [
        {
          "output_type": "execute_result",
          "data": {
            "text/plain": [
              "290"
            ]
          },
          "metadata": {},
          "execution_count": 57
        }
      ]
    },
    {
      "cell_type": "code",
      "source": [
        "characters = string.ascii_lowercase + string.digits + string.punctuation\n",
        "characters"
      ],
      "metadata": {
        "colab": {
          "base_uri": "https://localhost:8080/",
          "height": 36
        },
        "id": "FbRQLCkz1Ygw",
        "outputId": "06eaa363-4c41-48af-cca1-c083c198acab"
      },
      "execution_count": null,
      "outputs": [
        {
          "output_type": "execute_result",
          "data": {
            "text/plain": [
              "'abcdefghijklmnopqrstuvwxyz0123456789!\"#$%&\\'()*+,-./:;<=>?@[\\\\]^_`{|}~'"
            ],
            "application/vnd.google.colaboratory.intrinsic+json": {
              "type": "string"
            }
          },
          "metadata": {},
          "execution_count": 58
        }
      ]
    },
    {
      "cell_type": "code",
      "source": [
        "max_chars = len(characters) +2\n",
        "max_chars"
      ],
      "metadata": {
        "colab": {
          "base_uri": "https://localhost:8080/"
        },
        "id": "r3pARFKf2Bkt",
        "outputId": "2351f535-37d5-4966-b8a1-b0b8296d7dbb"
      },
      "execution_count": null,
      "outputs": [
        {
          "output_type": "execute_result",
          "data": {
            "text/plain": [
              "70"
            ]
          },
          "metadata": {},
          "execution_count": 59
        }
      ]
    },
    {
      "cell_type": "code",
      "source": [
        "char_vectorizer = tf.keras.layers.TextVectorization(max_tokens = max_chars,\n",
        "                                                    output_sequence_length = output_character_length,\n",
        "                                                    name = 'character_vectorizer_layer')"
      ],
      "metadata": {
        "id": "5k2_mQyS2K7S"
      },
      "execution_count": null,
      "outputs": []
    },
    {
      "cell_type": "code",
      "source": [
        "char_vectorizer.adapt(train_chars)"
      ],
      "metadata": {
        "id": "2B43QEpw2K2w"
      },
      "execution_count": null,
      "outputs": []
    },
    {
      "cell_type": "code",
      "source": [
        "char_vocab = char_vectorizer.get_vocabulary()\n",
        "print(f'Number of words in char_vocab: {len(char_vocab)}')\n",
        "print(f'Most common words in char_vocab: {(char_vocab[:10])}')\n",
        "print(f'Least common words in char_vocab: {(char_vocab[-10:])}')"
      ],
      "metadata": {
        "colab": {
          "base_uri": "https://localhost:8080/"
        },
        "id": "TtjVDCK-2Kk1",
        "outputId": "186bf605-a53b-448a-9465-0c57af0ca18c"
      },
      "execution_count": null,
      "outputs": [
        {
          "output_type": "stream",
          "name": "stdout",
          "text": [
            "Number of words in char_vocab: 28\n",
            "Most common words in char_vocab: ['', '[UNK]', 'e', 't', 'i', 'a', 'n', 'o', 'r', 's']\n",
            "Least common words in char_vocab: ['g', 'y', 'w', 'v', 'b', 'k', 'x', 'z', 'q', 'j']\n"
          ]
        }
      ]
    },
    {
      "cell_type": "code",
      "source": [
        "char_vectorizer.get_config()"
      ],
      "metadata": {
        "colab": {
          "base_uri": "https://localhost:8080/"
        },
        "id": "4Swc7-4e33gW",
        "outputId": "ee3588c5-4841-4cd5-af61-fed42c6b19f0"
      },
      "execution_count": null,
      "outputs": [
        {
          "output_type": "execute_result",
          "data": {
            "text/plain": [
              "{'name': 'character_vectorizer_layer',\n",
              " 'trainable': True,\n",
              " 'dtype': 'string',\n",
              " 'batch_input_shape': (None,),\n",
              " 'max_tokens': 70,\n",
              " 'standardize': 'lower_and_strip_punctuation',\n",
              " 'split': 'whitespace',\n",
              " 'ngrams': None,\n",
              " 'output_mode': 'int',\n",
              " 'output_sequence_length': 290,\n",
              " 'pad_to_max_tokens': False,\n",
              " 'sparse': False,\n",
              " 'ragged': False,\n",
              " 'vocabulary': None,\n",
              " 'idf_weights': None,\n",
              " 'encoding': 'utf-8',\n",
              " 'vocabulary_size': 28}"
            ]
          },
          "metadata": {},
          "execution_count": 63
        }
      ]
    },
    {
      "cell_type": "code",
      "source": [
        "char_embedder = tf.keras.layers.Embedding(input_dim = len(char_vocab),\n",
        "                                               output_dim = 25,\n",
        "                                               mask_zero = True,\n",
        "                                               name = 'character_embedder_layer')"
      ],
      "metadata": {
        "id": "2kU9_KMmxd3J"
      },
      "execution_count": null,
      "outputs": []
    },
    {
      "cell_type": "code",
      "source": [
        "sample_chars = split_chars(sample_sentence)\n",
        "print(f'Sentence:\\n {sample_chars}\\n')\n",
        "vectorized_sample_chars = char_vectorizer([sample_chars])\n",
        "print(f'Vectorized sentence:\\n{vectorized_sample_chars}\\n')\n",
        "embedded_sample_chars = char_embedder(vectorized_sample_chars)\n",
        "print(f'Embedded sentence:\\n{embedded_sample_chars}\\n')"
      ],
      "metadata": {
        "colab": {
          "base_uri": "https://localhost:8080/"
        },
        "id": "82LP81ZkZ-f-",
        "outputId": "d9510d15-856d-42e9-dd36-f3b26056172b"
      },
      "execution_count": null,
      "outputs": [
        {
          "output_type": "stream",
          "name": "stdout",
          "text": [
            "Sentence:\n",
            " t h e   p a r t i c i p a n t s   w e r e   t h e n   r a n d o m l y   a s s i g n e d   t o   r e c e i v e   a   p o s t o p e r a t i v e   c o u r s e   o f   p r e d n i s o l o n e   @   m g / k g / d   o r   n o   p r e d n i s o l o n e   o v e r   @   d a y s   .\n",
            "\n",
            "Vectorized sentence:\n",
            "[[ 3 13  2 14  5  8  3  4 11  4 14  5  6  3  9 20  2  8  2  3 13  2  6  8\n",
            "   5  6 10  7 15 12 19  5  9  9  4 18  6  2 10  3  7  8  2 11  2  4 21  2\n",
            "   5 14  7  9  3  7 14  2  8  5  3  4 21  2 11  7 16  8  9  2  7 17 14  8\n",
            "   2 10  6  4  9  7 12  7  6  2 15 18 23 18 10  7  8  6  7 14  8  2 10  6\n",
            "   4  9  7 12  7  6  2  7 21  2  8 10  5 19  9  0  0  0  0  0  0  0  0  0\n",
            "   0  0  0  0  0  0  0  0  0  0  0  0  0  0  0  0  0  0  0  0  0  0  0  0\n",
            "   0  0  0  0  0  0  0  0  0  0  0  0  0  0  0  0  0  0  0  0  0  0  0  0\n",
            "   0  0  0  0  0  0  0  0  0  0  0  0  0  0  0  0  0  0  0  0  0  0  0  0\n",
            "   0  0  0  0  0  0  0  0  0  0  0  0  0  0  0  0  0  0  0  0  0  0  0  0\n",
            "   0  0  0  0  0  0  0  0  0  0  0  0  0  0  0  0  0  0  0  0  0  0  0  0\n",
            "   0  0  0  0  0  0  0  0  0  0  0  0  0  0  0  0  0  0  0  0  0  0  0  0\n",
            "   0  0  0  0  0  0  0  0  0  0  0  0  0  0  0  0  0  0  0  0  0  0  0  0\n",
            "   0  0]]\n",
            "\n",
            "Embedded sentence:\n",
            "[[[ 0.028119   -0.00935494  0.04517125 ... -0.0347829   0.0378725\n",
            "   -0.03203215]\n",
            "  [ 0.01296571  0.02300273 -0.0133104  ... -0.04502482 -0.01807522\n",
            "    0.01961691]\n",
            "  [ 0.04160405 -0.03104565 -0.04584789 ...  0.03606011  0.04144171\n",
            "   -0.01938225]\n",
            "  ...\n",
            "  [-0.04998339  0.03254532  0.02997679 ... -0.01278615 -0.00129823\n",
            "    0.00518207]\n",
            "  [-0.04998339  0.03254532  0.02997679 ... -0.01278615 -0.00129823\n",
            "    0.00518207]\n",
            "  [-0.04998339  0.03254532  0.02997679 ... -0.01278615 -0.00129823\n",
            "    0.00518207]]]\n",
            "\n"
          ]
        }
      ]
    },
    {
      "cell_type": "code",
      "source": [
        "inputs = tf.keras.layers.Input(shape = (1, ), dtype = tf.string)\n",
        "char_vectors = char_vectorizer(inputs)\n",
        "char_embeddings = char_embedder(char_vectors)\n",
        "x = tf.keras.layers.Conv1D(64, kernel_size = 5, padding = 'same', activation = 'relu')(char_embeddings)\n",
        "x = tf.keras.layers.GlobalAveragePooling1D()(x)\n",
        "outputs = tf.keras.layers.Dense(total_classes, activation = 'softmax')(x)\n",
        "model_3 = tf.keras.Model(inputs, outputs, name = 'conv1d_char_20k')"
      ],
      "metadata": {
        "id": "NoMvdem6cAAa"
      },
      "execution_count": null,
      "outputs": []
    },
    {
      "cell_type": "code",
      "source": [
        "model_3.compile(loss = tf.keras.losses.categorical_crossentropy,\n",
        "                optimizer = tf.keras.optimizers.Adam(learning_rate = 0.003),\n",
        "                metrics = ['accuracy'])"
      ],
      "metadata": {
        "id": "QhhlkFrhdLNx"
      },
      "execution_count": null,
      "outputs": []
    },
    {
      "cell_type": "code",
      "source": [
        "train_char_data = tf.data.Dataset.from_tensor_slices((train_chars, train_labels_one_hot_encoded))\n",
        "validation_char_data = tf.data.Dataset.from_tensor_slices((validation_chars, validation_labels_one_hot_encoded))\n",
        "test_char_data = tf.data.Dataset.from_tensor_slices((test_chars, test_labels_one_hot_encoded))"
      ],
      "metadata": {
        "id": "uyGVY-WEdURP"
      },
      "execution_count": null,
      "outputs": []
    },
    {
      "cell_type": "code",
      "source": [
        "train_char_data = train_char_data.batch(32).prefetch(tf.data.AUTOTUNE)\n",
        "validation_char_data = validation_char_data.batch(32).prefetch(tf.data.AUTOTUNE)\n",
        "test_char_data = test_char_data.batch(32).prefetch(tf.data.AUTOTUNE)"
      ],
      "metadata": {
        "id": "_oLw2gNceaBE"
      },
      "execution_count": null,
      "outputs": []
    },
    {
      "cell_type": "code",
      "source": [
        "model_3_history = model_3.fit(train_char_data,\n",
        "                              epochs = 5,\n",
        "                              steps_per_epoch = int(0.25 * len(train_char_data)),\n",
        "                              validation_data = validation_char_data,\n",
        "                              validation_steps = int(0.25 * len(validation_char_data)),\n",
        "                              callbacks = [create_tensorboard_callback(dir_name = LOGS_DIR, experiment_name = 'conv1d_char_20k')])\n"
      ],
      "metadata": {
        "colab": {
          "base_uri": "https://localhost:8080/"
        },
        "id": "uPviVwT-euTW",
        "outputId": "edd10fa0-a217-4d1d-8c37-41ca51b829b6"
      },
      "execution_count": null,
      "outputs": [
        {
          "output_type": "stream",
          "name": "stdout",
          "text": [
            "Saving TensorBoard log files to: logs//conv1d_char_20k/20230628-044543\n",
            "Epoch 1/5\n",
            "1406/1406 [==============================] - 45s 31ms/step - loss: 1.3429 - accuracy: 0.4310 - val_loss: 1.2628 - val_accuracy: 0.4840\n",
            "Epoch 2/5\n",
            "1406/1406 [==============================] - 57s 40ms/step - loss: 1.2384 - accuracy: 0.4872 - val_loss: 1.1900 - val_accuracy: 0.5201\n",
            "Epoch 3/5\n",
            "1406/1406 [==============================] - 44s 31ms/step - loss: 1.1745 - accuracy: 0.5206 - val_loss: 1.1214 - val_accuracy: 0.5508\n",
            "Epoch 4/5\n",
            "1406/1406 [==============================] - 56s 40ms/step - loss: 1.0998 - accuracy: 0.5589 - val_loss: 1.0940 - val_accuracy: 0.5557\n",
            "Epoch 5/5\n",
            "   1/1406 [..............................] - ETA: 36s - loss: 1.1850 - accuracy: 0.4688"
          ]
        },
        {
          "output_type": "stream",
          "name": "stderr",
          "text": [
            "WARNING:tensorflow:Your input ran out of data; interrupting training. Make sure that your dataset or generator can generate at least `steps_per_epoch * epochs` batches (in this case, 7030 batches). You may need to use the repeat() function when building your dataset.\n"
          ]
        },
        {
          "output_type": "stream",
          "name": "stdout",
          "text": [
            "\b\b\b\b\b\b\b\b\b\b\b\b\b\b\b\b\b\b\b\b\b\b\b\b\b\b\b\b\b\b\b\b\b\b\b\b\b\b\b\b\b\b\b\b\b\b\b\b\b\b\b\b\b\b\b\b\b\b\b\b\b\b\b\b\b\b\b\b\b\b\b\b\b\b\b\b\b\b\b\b\b\b\b\b\b\b\b\r1406/1406 [==============================] - 2s 1ms/step - loss: 1.0799 - accuracy: 0.5000 - val_loss: 1.0599 - val_accuracy: 0.5742\n"
          ]
        }
      ]
    },
    {
      "cell_type": "code",
      "source": [
        "model_3.evaluate(validation_char_data)"
      ],
      "metadata": {
        "colab": {
          "base_uri": "https://localhost:8080/"
        },
        "id": "XM-9CwEffl83",
        "outputId": "7cd01f5f-40ea-4c2a-919d-c22afa5537ca"
      },
      "execution_count": null,
      "outputs": [
        {
          "output_type": "stream",
          "name": "stdout",
          "text": [
            "945/945 [==============================] - 13s 14ms/step - loss: 1.0633 - accuracy: 0.5707\n"
          ]
        },
        {
          "output_type": "execute_result",
          "data": {
            "text/plain": [
              "[1.0632996559143066, 0.5707334876060486]"
            ]
          },
          "metadata": {},
          "execution_count": 74
        }
      ]
    },
    {
      "cell_type": "code",
      "source": [
        "model_3_preds = tf.argmax(model_3.predict(validation_char_data), axis = 1)"
      ],
      "metadata": {
        "colab": {
          "base_uri": "https://localhost:8080/"
        },
        "id": "yHaO7h2rfViL",
        "outputId": "478056a8-c0e5-4911-bb9f-2b264095a331"
      },
      "execution_count": null,
      "outputs": [
        {
          "output_type": "stream",
          "name": "stdout",
          "text": [
            "945/945 [==============================] - 14s 15ms/step\n"
          ]
        }
      ]
    },
    {
      "cell_type": "code",
      "source": [
        "model_3_results = calculate_results(y_true = validation_labels_label_encoded,\n",
        "                                    y_pred = model_3_preds)\n",
        "model_3_results"
      ],
      "metadata": {
        "colab": {
          "base_uri": "https://localhost:8080/"
        },
        "id": "c_CNFO64fwSB",
        "outputId": "ec5ecec0-d14d-4e26-8795-36d2a0cd9949"
      },
      "execution_count": null,
      "outputs": [
        {
          "output_type": "execute_result",
          "data": {
            "text/plain": [
              "{'accuracy': 57.07334833840858,\n",
              " 'precision': 0.5410135078302345,\n",
              " 'recall': 0.5707334833840858,\n",
              " 'f1': 0.5349267246319271}"
            ]
          },
          "metadata": {},
          "execution_count": 76
        }
      ]
    },
    {
      "cell_type": "code",
      "source": [
        "token_inputs = tf.keras.layers.Input(shape = [], dtype = tf.string, name = 'token_input')\n",
        "token_embeddings = use(token_inputs)\n",
        "token_outputs = tf.keras.layers.Dense(256, activation = 'relu', name = 'token_output')(token_embeddings)\n",
        "token_model = tf.keras.Model(token_inputs, token_outputs, name = 'token_model')"
      ],
      "metadata": {
        "id": "0pgjfd38f3wY"
      },
      "execution_count": null,
      "outputs": []
    },
    {
      "cell_type": "code",
      "source": [
        "char_inputs = tf.keras.layers.Input(shape = (1, ), dtype = tf.string, name = 'char_input')\n",
        "char_vectors = char_vectorizer(char_inputs)\n",
        "char_embeddings = char_embedder(char_vectors)\n",
        "char_outputs = tf.keras.layers.Bidirectional(tf.keras.layers.LSTM(24), name = 'char_output')(char_embeddings)\n",
        "char_model = tf.keras.Model(char_inputs, char_outputs, name = 'char_model')"
      ],
      "metadata": {
        "id": "AHkGJHoAXo2o"
      },
      "execution_count": null,
      "outputs": []
    },
    {
      "cell_type": "code",
      "source": [
        "token_char_inputs = tf.keras.layers.Concatenate(name = 'token_char_input')([token_model.output, char_model.output])"
      ],
      "metadata": {
        "id": "5z6TYEx7YU7E"
      },
      "execution_count": null,
      "outputs": []
    },
    {
      "cell_type": "code",
      "source": [
        "token_char_dropout_1 = tf.keras.layers.Dropout(0.5, name = 'token_char_dropout_1')(token_char_inputs)\n",
        "token_char_dense = tf.keras.layers.Dense(128, activation = 'relu', name = 'token_char_dense')(token_char_dropout_1)\n",
        "token_char_dropout_2 = tf.keras.layers.Dropout(0.5, name = 'token_char_dropout_2')(token_char_dense)\n",
        "token_char_outputs = tf.keras.layers.Dense(total_classes, activation = 'softmax', name = 'token_char_output')(token_char_dropout_2)"
      ],
      "metadata": {
        "id": "QR6PULrpZbEm"
      },
      "execution_count": null,
      "outputs": []
    },
    {
      "cell_type": "code",
      "source": [
        "model_4 = tf.keras.Model(inputs = [token_model.input, char_model.input],\n",
        "                         outputs = token_char_outputs,\n",
        "                         name = 'token_char_20k')"
      ],
      "metadata": {
        "id": "J61tICawaF34"
      },
      "execution_count": null,
      "outputs": []
    },
    {
      "cell_type": "code",
      "source": [
        "tf.keras.utils.plot_model(model_4, show_shapes = True)"
      ],
      "metadata": {
        "colab": {
          "base_uri": "https://localhost:8080/",
          "height": 675
        },
        "id": "1hGII9czbc8W",
        "outputId": "3f5a905e-f5c3-4324-f7c8-97d1ba4b799b"
      },
      "execution_count": null,
      "outputs": [
        {
          "output_type": "execute_result",
          "data": {
            "image/png": "[encoded data removed]",
            "text/plain": [
              "<IPython.core.display.Image object>"
            ]
          },
          "metadata": {},
          "execution_count": 82
        }
      ]
    },
    {
      "cell_type": "code",
      "source": [
        "train_token_char_data = tf.data.Dataset.from_tensor_slices((train_sentences, train_chars))\n",
        "train_token_char_labels = tf.data.Dataset.from_tensor_slices(train_labels_one_hot_encoded)\n",
        "train_token_char_dataset = tf.data.Dataset.zip((train_token_char_data, train_token_char_labels))\n",
        "validation_token_char_data = tf.data.Dataset.from_tensor_slices((validation_sentences, validation_chars))\n",
        "validation_token_char_labels = tf.data.Dataset.from_tensor_slices(validation_labels_one_hot_encoded)\n",
        "validation_token_char_dataset = tf.data.Dataset.zip((validation_token_char_data, validation_token_char_labels))"
      ],
      "metadata": {
        "id": "ZktqVlTebc4U"
      },
      "execution_count": null,
      "outputs": []
    },
    {
      "cell_type": "code",
      "source": [
        "train_token_char_dataset = train_token_char_dataset.batch(32).prefetch(tf.data.AUTOTUNE)\n",
        "validation_token_char_dataset = validation_token_char_dataset.batch(32).prefetch(tf.data.AUTOTUNE)"
      ],
      "metadata": {
        "id": "LdJ0Sshzbcah"
      },
      "execution_count": null,
      "outputs": []
    },
    {
      "cell_type": "code",
      "source": [
        "model_4.compile(loss = tf.keras.losses.categorical_crossentropy,\n",
        "                optimizer = tf.keras.optimizers.Adam(learning_rate = 0.003),\n",
        "                metrics = ['accuracy'])"
      ],
      "metadata": {
        "id": "SZLqo0gqaw9V"
      },
      "execution_count": null,
      "outputs": []
    },
    {
      "cell_type": "code",
      "source": [
        "model_4_history = model_4.fit(train_token_char_dataset,\n",
        "                              epochs = 5,\n",
        "                              steps_per_epoch = int(0.25 * len(train_token_char_dataset)),\n",
        "                              validation_data = validation_token_char_dataset,\n",
        "                              validation_steps = int(0.25 * len(validation_token_char_dataset)),\n",
        "                              callbacks = [create_tensorboard_callback(dir_name = LOGS_DIR, experiment_name = 'token_char_20k')])"
      ],
      "metadata": {
        "colab": {
          "base_uri": "https://localhost:8080/"
        },
        "id": "QTeb3vkHbcVn",
        "outputId": "786278f3-dc05-4e84-d30d-ddf579b214ef"
      },
      "execution_count": null,
      "outputs": [
        {
          "output_type": "stream",
          "name": "stdout",
          "text": [
            "Saving TensorBoard log files to: logs//token_char_20k/20230628-045448\n",
            "Epoch 1/5\n",
            "1406/1406 [==============================] - 733s 521ms/step - loss: 0.7692 - accuracy: 0.7080 - val_loss: 0.6775 - val_accuracy: 0.7422\n",
            "Epoch 2/5\n",
            "1406/1406 [==============================] - 688s 489ms/step - loss: 0.7366 - accuracy: 0.7244 - val_loss: 0.6341 - val_accuracy: 0.7566\n",
            "Epoch 3/5\n",
            "1406/1406 [==============================] - 591s 420ms/step - loss: 0.7174 - accuracy: 0.7290 - val_loss: 0.6344 - val_accuracy: 0.7591\n",
            "Epoch 4/5\n",
            "1406/1406 [==============================] - 515s 366ms/step - loss: 0.7019 - accuracy: 0.7364 - val_loss: 0.6224 - val_accuracy: 0.7691\n",
            "Epoch 5/5\n",
            "   3/1406 [..............................] - ETA: 6:52 - loss: 1.0657 - accuracy: 0.6806"
          ]
        },
        {
          "output_type": "stream",
          "name": "stderr",
          "text": [
            "WARNING:tensorflow:Your input ran out of data; interrupting training. Make sure that your dataset or generator can generate at least `steps_per_epoch * epochs` batches (in this case, 7030 batches). You may need to use the repeat() function when building your dataset.\n"
          ]
        },
        {
          "output_type": "stream",
          "name": "stdout",
          "text": [
            "\b\b\b\b\b\b\b\b\b\b\b\b\b\b\b\b\b\b\b\b\b\b\b\b\b\b\b\b\b\b\b\b\b\b\b\b\b\b\b\b\b\b\b\b\b\b\b\b\b\b\b\b\b\b\b\b\b\b\b\b\b\b\b\b\b\b\b\b\b\b\b\b\b\b\b\b\b\b\b\b\b\b\b\b\b\b\b\b\r1406/1406 [==============================] - 21s 15ms/step - loss: 1.0657 - accuracy: 0.6806 - val_loss: 0.6239 - val_accuracy: 0.7709\n"
          ]
        }
      ]
    },
    {
      "cell_type": "code",
      "source": [
        "model_4.evaluate(validation_token_char_dataset)"
      ],
      "metadata": {
        "colab": {
          "base_uri": "https://localhost:8080/"
        },
        "id": "UgGvVmI6bcIG",
        "outputId": "39607497-b09a-468c-8a63-74492bf0d192"
      },
      "execution_count": null,
      "outputs": [
        {
          "output_type": "stream",
          "name": "stdout",
          "text": [
            "945/945 [==============================] - 73s 77ms/step - loss: 0.6154 - accuracy: 0.7696\n"
          ]
        },
        {
          "output_type": "execute_result",
          "data": {
            "text/plain": [
              "[0.6153815984725952, 0.769561767578125]"
            ]
          },
          "metadata": {},
          "execution_count": 88
        }
      ]
    },
    {
      "cell_type": "code",
      "source": [
        "model_4_preds = tf.argmax(model_4.predict(validation_token_char_dataset), axis = 1)"
      ],
      "metadata": {
        "colab": {
          "base_uri": "https://localhost:8080/"
        },
        "id": "VyzfGuZkbE6q",
        "outputId": "592d1e13-7321-4982-8baf-2f0a0224eb55"
      },
      "execution_count": null,
      "outputs": [
        {
          "output_type": "stream",
          "name": "stdout",
          "text": [
            "945/945 [==============================] - 74s 75ms/step\n"
          ]
        }
      ]
    },
    {
      "cell_type": "code",
      "source": [
        "model_4_results = calculate_results(y_true = validation_labels_label_encoded,\n",
        "                                    y_pred = model_4_preds)\n",
        "model_4_results"
      ],
      "metadata": {
        "colab": {
          "base_uri": "https://localhost:8080/"
        },
        "id": "wvP8DRYtgcuu",
        "outputId": "68b0e8c2-186e-495f-a53e-c61e73a5bd92"
      },
      "execution_count": null,
      "outputs": [
        {
          "output_type": "execute_result",
          "data": {
            "text/plain": [
              "{'accuracy': 76.95617635376671,\n",
              " 'precision': 0.763545804965946,\n",
              " 'recall': 0.7695617635376671,\n",
              " 'f1': 0.7647664827853916}"
            ]
          },
          "metadata": {},
          "execution_count": 90
        }
      ]
    },
    {
      "cell_type": "code",
      "source": [
        "train_df['line_number'].plot.hist()"
      ],
      "metadata": {
        "colab": {
          "base_uri": "https://localhost:8080/",
          "height": 447
        },
        "id": "rmKJ7TGugnMK",
        "outputId": "8dfe0635-64b1-4024-92d3-ba181f9d4214"
      },
      "execution_count": null,
      "outputs": [
        {
          "output_type": "execute_result",
          "data": {
            "text/plain": [
              "<Axes: ylabel='Frequency'>"
            ]
          },
          "metadata": {},
          "execution_count": 91
        },
        {
          "output_type": "display_data",
          "data": {
            "text/plain": [
              "<Figure size 640x480 with 1 Axes>"
            ],
            "image/png": "[encoded data removed]"
          },
          "metadata": {}
        }
      ]
    },
    {
      "cell_type": "code",
      "source": [
        "train_line_numbers_one_hot_encoded = tf.one_hot(train_df['line_number'].to_numpy(), depth = 15)\n",
        "validation_line_numbers_one_hot_encoded = tf.one_hot(validation_df['line_number'].to_numpy(), depth = 15)\n",
        "test_line_numbers_one_hot_encoded = tf.one_hot(test_df['line_number'].to_numpy(), depth = 15)"
      ],
      "metadata": {
        "id": "4KGt3HpflzWQ"
      },
      "execution_count": null,
      "outputs": []
    },
    {
      "cell_type": "code",
      "source": [
        "train_df['total_lines'].plot.hist()"
      ],
      "metadata": {
        "colab": {
          "base_uri": "https://localhost:8080/",
          "height": 448
        },
        "id": "V9AlcTeMPhHG",
        "outputId": "854a3120-eb5b-4827-c692-78c3260387eb"
      },
      "execution_count": null,
      "outputs": [
        {
          "output_type": "execute_result",
          "data": {
            "text/plain": [
              "<Axes: ylabel='Frequency'>"
            ]
          },
          "metadata": {},
          "execution_count": 93
        },
        {
          "output_type": "display_data",
          "data": {
            "text/plain": [
              "<Figure size 640x480 with 1 Axes>"
            ],
            "image/png": "[encoded data removed]"
          },
          "metadata": {}
        }
      ]
    },
    {
      "cell_type": "code",
      "source": [
        "train_total_lines_one_hot_encoded = tf.one_hot(train_df['total_lines'].to_numpy(), depth = 20)\n",
        "validation_total_lines_one_hot_encoded = tf.one_hot(validation_df['total_lines'].to_numpy(), depth = 20)\n",
        "test_total_lines_one_hot_encoded = tf.one_hot(test_df['total_lines'].to_numpy(), depth = 20)"
      ],
      "metadata": {
        "id": "iBK47knOPlsJ"
      },
      "execution_count": null,
      "outputs": []
    },
    {
      "cell_type": "code",
      "source": [
        "line_number_inputs = tf.keras.layers.Input(shape = (15, ), dtype = tf.float32, name = 'line_number_input')\n",
        "line_number_outputs = tf.keras.layers.Dense(32, activation = 'relu', name = 'line_number_output')(line_number_inputs)\n",
        "line_number_model = tf.keras.Model(line_number_inputs, line_number_outputs)"
      ],
      "metadata": {
        "id": "jdGu4GWDP5xh"
      },
      "execution_count": null,
      "outputs": []
    },
    {
      "cell_type": "code",
      "source": [
        "total_lines_inputs = tf.keras.layers.Input(shape = (20, ), dtype = tf.float32, name = 'total_lines_input')\n",
        "total_lines_outputs = tf.keras.layers.Dense(32, activation = 'relu', name = 'total_line_output')(total_lines_inputs)\n",
        "total_lines_model = tf.keras.Model(total_lines_inputs, total_lines_outputs, name = 'total_lines_model')"
      ],
      "metadata": {
        "id": "hCqRex52TQHs"
      },
      "execution_count": null,
      "outputs": []
    },
    {
      "cell_type": "code",
      "source": [
        "token_char_dense = tf.keras.layers.Dense(256, activation = 'relu', name = 'token_char_dense')(token_char_inputs)\n",
        "token_char_dropout = tf.keras.layers.Dropout(0.5, name = 'token_char_dropout')(token_char_dense)\n",
        "token_char_positional_inputs = tf.keras.layers.Concatenate(name = 'token_char_positional_inputs')([line_number_model.output,\n",
        "                                                                                                   total_lines_model.output,\n",
        "                                                                                                   token_char_dropout])\n",
        "token_char_positional_outputs = tf.keras.layers.Dense(total_classes, activation = 'softmax', name = 'token_char_positional_output')(token_char_positional_inputs)\n",
        "model_5 = tf.keras.Model([line_number_model.input,\n",
        "                          total_lines_model.input,\n",
        "                          token_model.input,\n",
        "                          char_model.input],\n",
        "                         token_char_positional_outputs)"
      ],
      "metadata": {
        "id": "NrdV4Q5sT-S9"
      },
      "execution_count": null,
      "outputs": []
    },
    {
      "cell_type": "code",
      "source": [
        "tf.keras.utils.plot_model(model_5)"
      ],
      "metadata": {
        "colab": {
          "base_uri": "https://localhost:8080/",
          "height": 522
        },
        "id": "fOrxD_dbXVBt",
        "outputId": "4f4014db-20a7-45cd-dfff-b7d51ae13a78"
      },
      "execution_count": null,
      "outputs": [
        {
          "output_type": "execute_result",
          "data": {
            "image/png": "[encoded data removed]",
            "text/plain": [
              "<IPython.core.display.Image object>"
            ]
          },
          "metadata": {},
          "execution_count": 101
        }
      ]
    },
    {
      "cell_type": "code",
      "source": [
        "model_5.compile(loss = tf.keras.losses.CategoricalCrossentropy(label_smoothing = 0.2),\n",
        "                optimizer = tf.keras.optimizers.Adam(learning_rate = 0.003),\n",
        "                metrics = ['accuracy'])"
      ],
      "metadata": {
        "id": "z7tcApgeWhGR"
      },
      "execution_count": null,
      "outputs": []
    },
    {
      "cell_type": "code",
      "source": [
        "train_token_char_positional_data = tf.data.Dataset.from_tensor_slices((train_line_numbers_one_hot_encoded, train_total_lines_one_hot_encoded, train_sentences, train_chars))\n",
        "train_token_char_positional_labels = tf.data.Dataset.from_tensor_slices(train_labels_one_hot_encoded)\n",
        "train_token_char_positional_dataset = tf.data.Dataset.zip((train_token_char_positional_data, train_token_char_positional_labels))\n",
        "validation_token_char_positional_data = tf.data.Dataset.from_tensor_slices((validation_line_numbers_one_hot_encoded, validation_total_lines_one_hot_encoded, validation_sentences, validation_chars))\n",
        "validation_token_char_positional_labels = tf.data.Dataset.from_tensor_slices(validation_labels_one_hot_encoded)\n",
        "validation_token_char_positional_dataset = tf.data.Dataset.zip((validation_token_char_positional_data, validation_token_char_positional_labels))"
      ],
      "metadata": {
        "id": "krRaQrSRXY5t"
      },
      "execution_count": null,
      "outputs": []
    },
    {
      "cell_type": "code",
      "source": [
        "train_token_char_positional_dataset = train_token_char_positional_dataset.batch(32).prefetch(tf.data.AUTOTUNE)\n",
        "validation_token_char_positional_dataset = validation_token_char_positional_dataset.batch(32).prefetch(tf.data.AUTOTUNE)"
      ],
      "metadata": {
        "id": "sUv8eWxTbsIC"
      },
      "execution_count": null,
      "outputs": []
    },
    {
      "cell_type": "code",
      "source": [
        "model_5_history = model_5.fit(train_token_char_positional_dataset,\n",
        "                              epochs = 5,\n",
        "                              steps_per_epoch = int(0.25 * len(train_token_char_positional_dataset)),\n",
        "                              validation_data = validation_token_char_positional_dataset,\n",
        "                              validation_steps = int(0.25 * len(validation_token_char_positional_dataset)),\n",
        "                              callbacks = [create_tensorboard_callback(dir_name = LOGS_DIR, experiment_name = 'token_char_positional_20k')])"
      ],
      "metadata": {
        "colab": {
          "base_uri": "https://localhost:8080/"
        },
        "id": "GiBfHUJJW_34",
        "outputId": "a85905b4-145b-4528-c521-d04f7db9f68f"
      },
      "execution_count": null,
      "outputs": [
        {
          "output_type": "stream",
          "name": "stdout",
          "text": [
            "Saving TensorBoard log files to: logs//token_char_positional_20k/20230628-054414\n",
            "Epoch 1/5\n",
            "1406/1406 [==============================] - 566s 380ms/step - loss: 0.9537 - accuracy: 0.8273 - val_loss: 0.9230 - val_accuracy: 0.8440\n",
            "Epoch 2/5\n",
            "1406/1406 [==============================] - 522s 371ms/step - loss: 0.9274 - accuracy: 0.8448 - val_loss: 0.9066 - val_accuracy: 0.8542\n",
            "Epoch 3/5\n",
            "1406/1406 [==============================] - 520s 370ms/step - loss: 0.9281 - accuracy: 0.8438 - val_loss: 0.9119 - val_accuracy: 0.8533\n",
            "Epoch 4/5\n",
            "1406/1406 [==============================] - 530s 377ms/step - loss: 0.9214 - accuracy: 0.8503 - val_loss: 0.9054 - val_accuracy: 0.8486\n",
            "Epoch 5/5\n",
            "   3/1406 [..............................] - ETA: 13:42 - loss: 1.0445 - accuracy: 0.7778"
          ]
        },
        {
          "output_type": "stream",
          "name": "stderr",
          "text": [
            "WARNING:tensorflow:Your input ran out of data; interrupting training. Make sure that your dataset or generator can generate at least `steps_per_epoch * epochs` batches (in this case, 7030 batches). You may need to use the repeat() function when building your dataset.\n"
          ]
        },
        {
          "output_type": "stream",
          "name": "stdout",
          "text": [
            "\b\b\b\b\b\b\b\b\b\b\b\b\b\b\b\b\b\b\b\b\b\b\b\b\b\b\b\b\b\b\b\b\b\b\b\b\b\b\b\b\b\b\b\b\b\b\b\b\b\b\b\b\b\b\b\b\b\b\b\b\b\b\b\b\b\b\b\b\b\b\b\b\b\b\b\b\b\b\b\b\b\b\b\b\b\b\b\b\b\r1406/1406 [==============================] - 22s 15ms/step - loss: 1.0445 - accuracy: 0.7778 - val_loss: 0.9079 - val_accuracy: 0.8467\n"
          ]
        }
      ]
    },
    {
      "cell_type": "code",
      "source": [
        "model_5.evaluate(validation_token_char_positional_dataset)"
      ],
      "metadata": {
        "colab": {
          "base_uri": "https://localhost:8080/"
        },
        "id": "LbXuK176dL13",
        "outputId": "09755d37-26cd-4ad3-ebfa-225319393a48"
      },
      "execution_count": null,
      "outputs": [
        {
          "output_type": "stream",
          "name": "stdout",
          "text": [
            "945/945 [==============================] - 75s 79ms/step - loss: 0.9056 - accuracy: 0.8497\n"
          ]
        },
        {
          "output_type": "execute_result",
          "data": {
            "text/plain": [
              "[0.9056178331375122, 0.8496623635292053]"
            ]
          },
          "metadata": {},
          "execution_count": 108
        }
      ]
    },
    {
      "cell_type": "code",
      "source": [
        "model_5_preds = tf.argmax(model_5.predict(validation_token_char_positional_dataset), axis = 1)"
      ],
      "metadata": {
        "colab": {
          "base_uri": "https://localhost:8080/"
        },
        "id": "nhyHUjzhdRft",
        "outputId": "120733c7-f18d-4a8c-9f6c-d626ce3260fd"
      },
      "execution_count": null,
      "outputs": [
        {
          "output_type": "stream",
          "name": "stdout",
          "text": [
            "945/945 [==============================] - 77s 77ms/step\n"
          ]
        }
      ]
    },
    {
      "cell_type": "code",
      "source": [
        "model_5_results = calculate_results(y_true = validation_labels_label_encoded,\n",
        "                                    y_pred = model_5_preds)\n",
        "model_5_results"
      ],
      "metadata": {
        "colab": {
          "base_uri": "https://localhost:8080/"
        },
        "id": "_vcKC4XZdd50",
        "outputId": "654e3085-e467-4f61-b0d2-c946b60ca92b"
      },
      "execution_count": null,
      "outputs": [
        {
          "output_type": "execute_result",
          "data": {
            "text/plain": [
              "{'accuracy': 84.96623858069641,\n",
              " 'precision': 0.8498985575848049,\n",
              " 'recall': 0.8496623858069641,\n",
              " 'f1': 0.8467142920197073}"
            ]
          },
          "metadata": {},
          "execution_count": 110
        }
      ]
    },
    {
      "cell_type": "code",
      "source": [
        "all_models_results = pd.DataFrane({\n",
        "    'naive_bayes_model': baseline_results,\n",
        "    'token_model': model_1_results,\n",
        "    'use_model': model_2_results,\n",
        "    'char_model': model_3_results,\n",
        "    'token_char_model': model_4_results,\n",
        "    'token_char_positional_model': model_5_results\n",
        "})\n",
        "\n",
        "all_models_results = all_models_results.transpose()\n",
        "all_models_results.reset_index(inplace = True)\n",
        "all_models_results"
      ],
      "metadata": {
        "id": "VfimDk2pnpiM"
      },
      "execution_count": null,
      "outputs": []
    },
    {
      "cell_type": "code",
      "source": [
        "all_models_results.plot(kind = 'bar', figsize = (10,7)).legend(bbox_to_anchor = (1.0,1.0))"
      ],
      "metadata": {
        "id": "KUbfkMiNpqnQ"
      },
      "execution_count": null,
      "outputs": []
    },
    {
      "cell_type": "code",
      "source": [
        "test_token_char_positional_data = tf.data.Dataset.from_tensor_slices((test_line_numbers_one_hot_encoded, test_total_lines_one_hot_encoded, test_sentences, test_chars))\n",
        "test_token_char_positional_labels = tf.data.Dataset.from_tensor_slices(test_labels_one_hot_encoded)\n",
        "test_token_char_positional_dataset = tf.data.Dataset.zip((test_token_char_positional_data, test_token_char_positional_labels))\n",
        "test_token_char_positional_dataset = test_token_char_positional_dataset.batch(32).prefetch(tf.data.AUTOTUNE)"
      ],
      "metadata": {
        "id": "uMd_h-WR889n"
      },
      "execution_count": null,
      "outputs": []
    },
    {
      "cell_type": "code",
      "source": [
        "model_5_test_preds = tf.argmax(model_5.predict(test_token_char_positional_dataset), axis = 1)"
      ],
      "metadata": {
        "id": "WlKVHItb9uxu"
      },
      "execution_count": null,
      "outputs": []
    },
    {
      "cell_type": "code",
      "source": [
        "model_5_test_results = calculate_results(y_true = test_labels_label_encoded,\n",
        "                                         y_pred = model_5_test_preds)"
      ],
      "metadata": {
        "id": "8LUzh8SJ99Zo"
      },
      "execution_count": null,
      "outputs": []
    },
    {
      "cell_type": "code",
      "source": [
        "model_5_test_results"
      ],
      "metadata": {
        "id": "KQMSmuqr99O8"
      },
      "execution_count": null,
      "outputs": []
    }
  ]
}